{
 "cells": [
  {
   "cell_type": "code",
   "execution_count": 1,
   "id": "223a97c6",
   "metadata": {},
   "outputs": [
    {
     "data": {
      "text/html": [
       "        <script type=\"text/javascript\">\n",
       "        window.PlotlyConfig = {MathJaxConfig: 'local'};\n",
       "        if (window.MathJax) {MathJax.Hub.Config({SVG: {font: \"STIX-Web\"}});}\n",
       "        if (typeof require !== 'undefined') {\n",
       "        require.undef(\"plotly\");\n",
       "        requirejs.config({\n",
       "            paths: {\n",
       "                'plotly': ['https://cdn.plot.ly/plotly-2.9.0.min']\n",
       "            }\n",
       "        });\n",
       "        require(['plotly'], function(Plotly) {\n",
       "            window._Plotly = Plotly;\n",
       "        });\n",
       "        }\n",
       "        </script>\n",
       "        "
      ]
     },
     "metadata": {},
     "output_type": "display_data"
    }
   ],
   "source": [
    "import os\n",
    "import warnings\n",
    "warnings.filterwarnings('ignore')\n",
    "import pandas as pd\n",
    "import numpy as np\n",
    "import matplotlib.pyplot as plt\n",
    "%matplotlib inline\n",
    "from pylab import rcParams\n",
    "from plotly import tools\n",
    "import chart_studio\n",
    "import chart_studio.plotly as py\n",
    "from plotly.offline import init_notebook_mode, iplot\n",
    "init_notebook_mode(connected = True)\n",
    "import plotly.graph_objs as go\n",
    "import plotly.figure_factory as ff\n",
    "from numpy.random import normal,seed\n",
    "import math\n",
    "from sklearn.metrics import mean_squared_error\n",
    "from sklearn.model_selection import train_test_split\n",
    "from sklearn.preprocessing import StandardScaler\n",
    "from sklearn.svm import SVR\n",
    "from sklearn.ensemble import RandomForestRegressor\n",
    "from sklearn.metrics import mean_absolute_percentage_error\n",
    "from sklearn.metrics import explained_variance_score\n",
    "from sklearn.linear_model import LinearRegression\n",
    "import math"
   ]
  },
  {
   "cell_type": "code",
   "execution_count": 2,
   "id": "6b38e484",
   "metadata": {},
   "outputs": [],
   "source": [
    "siguniang = pd.read_csv('Mt_Siguniang_2018-2020.csv',  parse_dates = ['Date'])"
   ]
  },
  {
   "cell_type": "code",
   "execution_count": 3,
   "id": "0a14c583",
   "metadata": {},
   "outputs": [
    {
     "data": {
      "text/plain": [
       "Index(['Date', 'Tourist_Arrival_volume'], dtype='object')"
      ]
     },
     "execution_count": 3,
     "metadata": {},
     "output_type": "execute_result"
    }
   ],
   "source": [
    "siguniang.columns"
   ]
  },
  {
   "cell_type": "code",
   "execution_count": 4,
   "id": "475f840d",
   "metadata": {},
   "outputs": [
    {
     "data": {
      "text/html": [
       "<div>\n",
       "<style scoped>\n",
       "    .dataframe tbody tr th:only-of-type {\n",
       "        vertical-align: middle;\n",
       "    }\n",
       "\n",
       "    .dataframe tbody tr th {\n",
       "        vertical-align: top;\n",
       "    }\n",
       "\n",
       "    .dataframe thead th {\n",
       "        text-align: right;\n",
       "    }\n",
       "</style>\n",
       "<table border=\"1\" class=\"dataframe\">\n",
       "  <thead>\n",
       "    <tr style=\"text-align: right;\">\n",
       "      <th></th>\n",
       "      <th>Date</th>\n",
       "      <th>Tourist_Arrival_volume</th>\n",
       "    </tr>\n",
       "  </thead>\n",
       "  <tbody>\n",
       "    <tr>\n",
       "      <th>0</th>\n",
       "      <td>2018-01-01</td>\n",
       "      <td>1074.0</td>\n",
       "    </tr>\n",
       "    <tr>\n",
       "      <th>1</th>\n",
       "      <td>2018-01-02</td>\n",
       "      <td>294.0</td>\n",
       "    </tr>\n",
       "    <tr>\n",
       "      <th>2</th>\n",
       "      <td>2018-01-03</td>\n",
       "      <td>196.0</td>\n",
       "    </tr>\n",
       "    <tr>\n",
       "      <th>3</th>\n",
       "      <td>2018-01-04</td>\n",
       "      <td>174.0</td>\n",
       "    </tr>\n",
       "    <tr>\n",
       "      <th>4</th>\n",
       "      <td>2018-01-05</td>\n",
       "      <td>192.0</td>\n",
       "    </tr>\n",
       "  </tbody>\n",
       "</table>\n",
       "</div>"
      ],
      "text/plain": [
       "        Date  Tourist_Arrival_volume\n",
       "0 2018-01-01                  1074.0\n",
       "1 2018-01-02                   294.0\n",
       "2 2018-01-03                   196.0\n",
       "3 2018-01-04                   174.0\n",
       "4 2018-01-05                   192.0"
      ]
     },
     "execution_count": 4,
     "metadata": {},
     "output_type": "execute_result"
    }
   ],
   "source": [
    "siguniang = siguniang.fillna(method=\"ffill\")\n",
    "siguniang.head()"
   ]
  },
  {
   "cell_type": "code",
   "execution_count": 5,
   "id": "88d6d2a0",
   "metadata": {},
   "outputs": [],
   "source": [
    "siguniang['Date'] = pd.to_datetime(siguniang['Date'],format='%Y%m%d')"
   ]
  },
  {
   "cell_type": "code",
   "execution_count": 6,
   "id": "e9f2c6d2",
   "metadata": {},
   "outputs": [],
   "source": [
    "siguniang['year'] = pd.DatetimeIndex(siguniang['Date']).year\n",
    "siguniang['month'] = pd.DatetimeIndex(siguniang['Date']).month\n",
    "siguniang['day'] = pd.DatetimeIndex(siguniang['Date']).day"
   ]
  },
  {
   "cell_type": "code",
   "execution_count": 7,
   "id": "60cf0972",
   "metadata": {},
   "outputs": [
    {
     "data": {
      "text/plain": [
       "Index(['Date', 'Tourist_Arrival_volume', 'year', 'month', 'day'], dtype='object')"
      ]
     },
     "execution_count": 7,
     "metadata": {},
     "output_type": "execute_result"
    }
   ],
   "source": [
    "siguniang.columns"
   ]
  },
  {
   "cell_type": "code",
   "execution_count": 8,
   "id": "3c8f29e4",
   "metadata": {},
   "outputs": [
    {
     "data": {
      "text/html": [
       "<div>\n",
       "<style scoped>\n",
       "    .dataframe tbody tr th:only-of-type {\n",
       "        vertical-align: middle;\n",
       "    }\n",
       "\n",
       "    .dataframe tbody tr th {\n",
       "        vertical-align: top;\n",
       "    }\n",
       "\n",
       "    .dataframe thead th {\n",
       "        text-align: right;\n",
       "    }\n",
       "</style>\n",
       "<table border=\"1\" class=\"dataframe\">\n",
       "  <thead>\n",
       "    <tr style=\"text-align: right;\">\n",
       "      <th></th>\n",
       "      <th>Date</th>\n",
       "      <th>Tourist_Arrival_volume</th>\n",
       "      <th>year</th>\n",
       "      <th>month</th>\n",
       "      <th>day</th>\n",
       "    </tr>\n",
       "  </thead>\n",
       "  <tbody>\n",
       "    <tr>\n",
       "      <th>0</th>\n",
       "      <td>2018-01-01</td>\n",
       "      <td>1074.0</td>\n",
       "      <td>2018</td>\n",
       "      <td>1</td>\n",
       "      <td>1</td>\n",
       "    </tr>\n",
       "    <tr>\n",
       "      <th>1</th>\n",
       "      <td>2018-01-02</td>\n",
       "      <td>294.0</td>\n",
       "      <td>2018</td>\n",
       "      <td>1</td>\n",
       "      <td>2</td>\n",
       "    </tr>\n",
       "    <tr>\n",
       "      <th>2</th>\n",
       "      <td>2018-01-03</td>\n",
       "      <td>196.0</td>\n",
       "      <td>2018</td>\n",
       "      <td>1</td>\n",
       "      <td>3</td>\n",
       "    </tr>\n",
       "    <tr>\n",
       "      <th>3</th>\n",
       "      <td>2018-01-04</td>\n",
       "      <td>174.0</td>\n",
       "      <td>2018</td>\n",
       "      <td>1</td>\n",
       "      <td>4</td>\n",
       "    </tr>\n",
       "    <tr>\n",
       "      <th>4</th>\n",
       "      <td>2018-01-05</td>\n",
       "      <td>192.0</td>\n",
       "      <td>2018</td>\n",
       "      <td>1</td>\n",
       "      <td>5</td>\n",
       "    </tr>\n",
       "  </tbody>\n",
       "</table>\n",
       "</div>"
      ],
      "text/plain": [
       "        Date  Tourist_Arrival_volume  year  month  day\n",
       "0 2018-01-01                  1074.0  2018      1    1\n",
       "1 2018-01-02                   294.0  2018      1    2\n",
       "2 2018-01-03                   196.0  2018      1    3\n",
       "3 2018-01-04                   174.0  2018      1    4\n",
       "4 2018-01-05                   192.0  2018      1    5"
      ]
     },
     "execution_count": 8,
     "metadata": {},
     "output_type": "execute_result"
    }
   ],
   "source": [
    "siguniang.head()"
   ]
  },
  {
   "cell_type": "code",
   "execution_count": 9,
   "id": "a146545f",
   "metadata": {
    "scrolled": false
   },
   "outputs": [],
   "source": [
    "X = siguniang.iloc[:,2:].values\n",
    "Y = siguniang.iloc[:,1].values"
   ]
  },
  {
   "cell_type": "code",
   "execution_count": 10,
   "id": "66f821c0",
   "metadata": {},
   "outputs": [
    {
     "name": "stdout",
     "output_type": "stream",
     "text": [
      "(644, 3) (114, 3) (644,) (114,)\n"
     ]
    }
   ],
   "source": [
    "X_train, X_test, Y_train, Y_test = train_test_split(X, Y, test_size=0.15, random_state = 17)\n",
    "print(X_train.shape, X_test.shape, Y_train.shape, Y_test.shape)"
   ]
  },
  {
   "cell_type": "code",
   "execution_count": 11,
   "id": "97554de6",
   "metadata": {},
   "outputs": [
    {
     "data": {
      "text/plain": [
       "array([  455.,  2091.,  1553.,   607.,  1338.,  3239.,  1878.,   222.,\n",
       "         410.,   314.,   180.,   542.,  3313.,  3013.,   552.,  5815.,\n",
       "         290.,  4213.,   576.,   664.,   497.,  1354.,   292.,  7522.,\n",
       "        1883.,   865.,  3814.,  2766.,  4664.,   859.,  1075., 12325.,\n",
       "        1399.,   140.,  2308.,  1135.,   575.,  1454.,  1169.,  4471.,\n",
       "        1298.,   418.,   599.,  1015.,   743.,   165.,   283.,  1030.,\n",
       "        3125.,   312.,  5285.,  2556.,  2624.,   796.,   155.,   270.,\n",
       "        7619.,   306.,   642.,  1726.,  3020.,   823.,   130.,    95.,\n",
       "        2685.,  1188.,   999.,  1787.,  1879.,   333.,  1273.,  3421.,\n",
       "        1788.,   242.,   771.,  2490.,  4573.,   442.,   618.,   395.,\n",
       "        1014.,   792.,  1045.,  3122.,   105.,   279.,  1430.,  4696.,\n",
       "        1251.,  1033.,   430.,  6709.,  2818.,  1358.,   603.,  6767.,\n",
       "        1119.,   129.,   312.,   440.,   305.,    96.,   314.,   988.,\n",
       "         974.,  4516.,   831.,   203.,   115.,   463.,   462.,   212.,\n",
       "         265.,  1128.])"
      ]
     },
     "execution_count": 11,
     "metadata": {},
     "output_type": "execute_result"
    }
   ],
   "source": [
    "Y_test"
   ]
  },
  {
   "cell_type": "code",
   "execution_count": 12,
   "id": "c000e980",
   "metadata": {},
   "outputs": [
    {
     "data": {
      "text/plain": [
       "RandomForestRegressor(n_estimators=1000, random_state=17)"
      ]
     },
     "execution_count": 12,
     "metadata": {},
     "output_type": "execute_result"
    }
   ],
   "source": [
    "#Random Forest\n",
    "rf = RandomForestRegressor(n_estimators = 1000, random_state = 17)\n",
    "rf.fit(X_train, Y_train)"
   ]
  },
  {
   "cell_type": "code",
   "execution_count": 13,
   "id": "98e89fef",
   "metadata": {},
   "outputs": [
    {
     "data": {
      "text/plain": [
       "array([  346.407,  2112.527,  1704.202,  2108.695,  1595.835,  3389.808,\n",
       "        1920.126,   466.658,   243.304,   354.574,   269.526,   938.902,\n",
       "        3798.456,  3069.516,   740.476,  4296.472,   354.891,  4823.145,\n",
       "         609.372,   769.678,   881.154,  1279.134,   378.686,  4802.992,\n",
       "        2036.012,  1099.733,  3611.101,  3139.768,  3086.143,   815.498,\n",
       "        1352.584, 11488.793,  1274.589,   121.724,  2427.213,  1121.754,\n",
       "         595.24 ,   671.303,  1812.374,  4392.394,  2151.216,   687.825,\n",
       "         269.22 ,  1385.017,   381.325,   296.841,   288.466,  2698.647,\n",
       "        2706.628,   321.043,  4755.792,   670.382,  1634.284,   928.682,\n",
       "         271.161,   281.071,  5285.769,   608.29 ,   878.901,  2235.948,\n",
       "        3086.238,  1412.738,   219.875,   277.385,  2321.729,  2034.415,\n",
       "         855.256,  1989.111,  1724.801,   460.632,  1581.678,  1034.475,\n",
       "        1542.056,   261.066,  1172.532,  1690.99 ,  4047.027,   399.89 ,\n",
       "        1628.256,   443.773,   679.387,   378.995,  1287.173,  5679.67 ,\n",
       "         136.175,   435.796,  1604.049,  3245.217,  1592.486,   808.945,\n",
       "         379.942,  4184.428,  2503.88 ,  2070.637,  1669.886,  5795.033,\n",
       "        3187.961,  1028.514,   374.998,   403.595,   284.87 ,   172.098,\n",
       "         335.228,  1863.713,  1240.377,  4478.563,  1487.835,   267.158,\n",
       "         225.572,  1243.899,   315.916,  1024.262,   248.537,  2215.158])"
      ]
     },
     "execution_count": 13,
     "metadata": {},
     "output_type": "execute_result"
    }
   ],
   "source": [
    "predictions = rf.predict(X_test)\n",
    "predictions"
   ]
  },
  {
   "cell_type": "code",
   "execution_count": 14,
   "id": "53e81d72",
   "metadata": {},
   "outputs": [
    {
     "data": {
      "text/plain": [
       "605571.2264337281"
      ]
     },
     "execution_count": 14,
     "metadata": {},
     "output_type": "execute_result"
    }
   ],
   "source": [
    "mean_squared_error(Y_test, predictions)"
   ]
  },
  {
   "cell_type": "code",
   "execution_count": 15,
   "id": "e795d6ec",
   "metadata": {},
   "outputs": [
    {
     "name": "stdout",
     "output_type": "stream",
     "text": [
      "RMSE:  778.1845709301413\n"
     ]
    }
   ],
   "source": [
    "print('RMSE: ',math.sqrt(mean_squared_error(Y_test, predictions)))"
   ]
  },
  {
   "cell_type": "code",
   "execution_count": 16,
   "id": "e76b94bf",
   "metadata": {},
   "outputs": [
    {
     "data": {
      "text/plain": [
       "0.8418592270987004"
      ]
     },
     "execution_count": 16,
     "metadata": {},
     "output_type": "execute_result"
    }
   ],
   "source": [
    "explained_variance_score(Y_test, predictions)"
   ]
  },
  {
   "cell_type": "code",
   "execution_count": 17,
   "id": "d7eca4c5",
   "metadata": {},
   "outputs": [
    {
     "data": {
      "text/plain": [
       "0.49689264052640125"
      ]
     },
     "execution_count": 17,
     "metadata": {},
     "output_type": "execute_result"
    }
   ],
   "source": [
    "mean_absolute_percentage_error(Y_test, predictions)"
   ]
  },
  {
   "cell_type": "code",
   "execution_count": 18,
   "id": "4c9723de",
   "metadata": {},
   "outputs": [
    {
     "data": {
      "image/png": "[encoded data removed]",
      "text/plain": [
       "<Figure size 720x360 with 1 Axes>"
      ]
     },
     "metadata": {
      "needs_background": "light"
     },
     "output_type": "display_data"
    }
   ],
   "source": [
    "plt.figure(figsize=(10,5))\n",
    "plt.plot(Y_test, color = 'red', linewidth=2.0, alpha = 0.6)\n",
    "plt.plot(predictions, color = 'blue', linewidth=0.8)\n",
    "plt.legend(['Actual','Predicted'])\n",
    "plt.xlabel('Timestamp')\n",
    "plt.ylabel('Arrival volume')\n",
    "plt.show()"
   ]
  },
  {
   "cell_type": "code",
   "execution_count": 19,
   "id": "e246572e",
   "metadata": {},
   "outputs": [],
   "source": [
    "#Linear Regression\n",
    "reg = LinearRegression().fit(X_train, Y_train)"
   ]
  },
  {
   "cell_type": "code",
   "execution_count": 20,
   "id": "43890a36",
   "metadata": {},
   "outputs": [
    {
     "data": {
      "text/plain": [
       "array([  455.,  2091.,  1553.,   607.,  1338.,  3239.,  1878.,   222.,\n",
       "         410.,   314.,   180.,   542.,  3313.,  3013.,   552.,  5815.,\n",
       "         290.,  4213.,   576.,   664.,   497.,  1354.,   292.,  7522.,\n",
       "        1883.,   865.,  3814.,  2766.,  4664.,   859.,  1075., 12325.,\n",
       "        1399.,   140.,  2308.,  1135.,   575.,  1454.,  1169.,  4471.,\n",
       "        1298.,   418.,   599.,  1015.,   743.,   165.,   283.,  1030.,\n",
       "        3125.,   312.,  5285.,  2556.,  2624.,   796.,   155.,   270.,\n",
       "        7619.,   306.,   642.,  1726.,  3020.,   823.,   130.,    95.,\n",
       "        2685.,  1188.,   999.,  1787.,  1879.,   333.,  1273.,  3421.,\n",
       "        1788.,   242.,   771.,  2490.,  4573.,   442.,   618.,   395.,\n",
       "        1014.,   792.,  1045.,  3122.,   105.,   279.,  1430.,  4696.,\n",
       "        1251.,  1033.,   430.,  6709.,  2818.,  1358.,   603.,  6767.,\n",
       "        1119.,   129.,   312.,   440.,   305.,    96.,   314.,   988.,\n",
       "         974.,  4516.,   831.,   203.,   115.,   463.,   462.,   212.,\n",
       "         265.,  1128.])"
      ]
     },
     "execution_count": 20,
     "metadata": {},
     "output_type": "execute_result"
    }
   ],
   "source": [
    "Y_test"
   ]
  },
  {
   "cell_type": "code",
   "execution_count": 21,
   "id": "edeff4c4",
   "metadata": {},
   "outputs": [
    {
     "data": {
      "text/plain": [
       "array([2143.15582707, 1642.68413175, 1531.09982853, 1439.28636046,\n",
       "       2479.04509459, 1676.79055584, 1619.08351186,  664.46222635,\n",
       "       2331.49168261, 1233.04235446, 1458.17806096, 1870.66607296,\n",
       "       2034.41775857, 2342.87662145,  785.56878373, 2063.71084788,\n",
       "        775.06297952, 1912.32765115, 2543.42815803, 1114.78203179,\n",
       "       1052.36606842, 1515.88510494,  597.2329282 ,  682.37037681,\n",
       "       1279.3644596 , 1324.85582254, 1767.62047388, 1346.59375775,\n",
       "       1883.03456184, 2236.83197982, 1228.33343508, 2549.12062745,\n",
       "       1915.17388586, 1276.51822489, 1127.98126287, 1197.07324569,\n",
       "       1506.51565861, 1055.21230313, 2370.30702609, 1876.35854238,\n",
       "       2076.07933676, 1327.70205725,  139.25355326, 1103.39709294,\n",
       "       2573.70479737,  576.47854302, 2385.36894184, 1736.3602845 ,\n",
       "       2118.57165715,  297.31276945, 1791.22109377, 1111.93579708,\n",
       "       1352.28622717,  864.03021289, 1321.02603779, 1267.14877855,\n",
       "       1670.11453638, 1940.74160582, 1169.64284106, 1976.71071459,\n",
       "       2337.18415203, 1322.00958782,  600.07916291,  690.90908095,\n",
       "       1561.37646788, 1796.91356319, 1075.96668831, 1464.85408042,\n",
       "       1543.31550958, 2030.58797382, 1485.6084656 , 1469.5629998 ,\n",
       "       1697.54494102,  566.95628885,  815.84542308, 1794.06732848,\n",
       "       2003.15756919, 2725.0879941 , 1199.9194804 ,  627.50956754,\n",
       "       1348.45644242, 2567.02877791,  846.12206242, 1609.56125769,\n",
       "        476.12637081, 2119.55520719, 1440.2699105 , 1646.5139165 ,\n",
       "       1652.20638592, 1939.75805578, 2091.14125251, 2252.04670341,\n",
       "       2027.74173911, 1163.95037164, 1549.007979  , 1851.77437246,\n",
       "       1827.19020253, 2242.52444924, 2082.60254838,  563.1265041 ,\n",
       "       2694.81135476, 1397.62478227, 2001.29488451, 1840.38943361,\n",
       "       1443.11614521, 2221.77006407, 1982.40318401,  721.18572029,\n",
       "        653.95642214, 1499.83963915,  758.1383791 , 2272.80108859,\n",
       "        411.74330737, 1975.72716455])"
      ]
     },
     "execution_count": 21,
     "metadata": {},
     "output_type": "execute_result"
    }
   ],
   "source": [
    "predictions_lr = reg.predict(X_test)\n",
    "predictions_lr"
   ]
  },
  {
   "cell_type": "code",
   "execution_count": 22,
   "id": "3df2663d",
   "metadata": {},
   "outputs": [
    {
     "data": {
      "text/plain": [
       "3541099.9174466636"
      ]
     },
     "execution_count": 22,
     "metadata": {},
     "output_type": "execute_result"
    }
   ],
   "source": [
    "mean_squared_error(Y_test, predictions_lr)"
   ]
  },
  {
   "cell_type": "code",
   "execution_count": 23,
   "id": "5900a11a",
   "metadata": {},
   "outputs": [
    {
     "name": "stdout",
     "output_type": "stream",
     "text": [
      "RMSE for linear regression:  1881.7810492846036\n"
     ]
    }
   ],
   "source": [
    "print('RMSE for linear regression: ',math.sqrt(mean_squared_error(Y_test,predictions_lr)))"
   ]
  },
  {
   "cell_type": "code",
   "execution_count": 24,
   "id": "d6e4f8b2",
   "metadata": {},
   "outputs": [
    {
     "data": {
      "text/plain": [
       "1.889506834976407"
      ]
     },
     "execution_count": 24,
     "metadata": {},
     "output_type": "execute_result"
    }
   ],
   "source": [
    "mean_absolute_percentage_error(Y_test, predictions_lr)"
   ]
  },
  {
   "cell_type": "code",
   "execution_count": 25,
   "id": "153746bc",
   "metadata": {},
   "outputs": [
    {
     "data": {
      "image/png": "[encoded data removed]",
      "text/plain": [
       "<Figure size 720x360 with 1 Axes>"
      ]
     },
     "metadata": {
      "needs_background": "light"
     },
     "output_type": "display_data"
    }
   ],
   "source": [
    "plt.figure(figsize=(10,5))\n",
    "plt.plot(Y_test, color = 'red', linewidth=2.0)\n",
    "plt.plot(predictions_lr, color = 'blue', linewidth=0.8)\n",
    "plt.legend(['Actual','Predicted'])\n",
    "plt.xlabel('Timestamp')\n",
    "plt.ylabel('Arrival volume')\n",
    "plt.show()"
   ]
  },
  {
   "cell_type": "code",
   "execution_count": null,
   "id": "d34edc5b",
   "metadata": {},
   "outputs": [],
   "source": []
  }
 ],
 "metadata": {
  "kernelspec": {
   "display_name": "Python 3 (ipykernel)",
   "language": "python",
   "name": "python3"
  },
  "language_info": {
   "codemirror_mode": {
    "name": "ipython",
    "version": 3
   },
   "file_extension": ".py",
   "mimetype": "text/x-python",
   "name": "python",
   "nbconvert_exporter": "python",
   "pygments_lexer": "ipython3",
   "version": "3.9.7"
  }
 },
 "nbformat": 4,
 "nbformat_minor": 5
}
