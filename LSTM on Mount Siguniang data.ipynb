{
 "cells": [
  {
   "cell_type": "code",
   "execution_count": 1,
   "id": "6c06590b",
   "metadata": {},
   "outputs": [],
   "source": [
    "import os\n",
    "import warnings\n",
    "import matplotlib.pyplot as plt\n",
    "import numpy as np\n",
    "import pandas as pd\n",
    "import datetime as dt\n",
    "import math\n",
    "\n",
    "from keras.models import Sequential\n",
    "from keras.layers import Dense\n",
    "from keras.layers import LSTM\n",
    "from sklearn.preprocessing import MinMaxScaler\n",
    "from sklearn.metrics import mean_squared_error\n",
    "from sklearn.metrics import mean_absolute_percentage_error"
   ]
  },
  {
   "cell_type": "code",
   "execution_count": 2,
   "id": "0d266ba8",
   "metadata": {},
   "outputs": [
    {
     "data": {
      "text/html": [
       "<div>\n",
       "<style scoped>\n",
       "    .dataframe tbody tr th:only-of-type {\n",
       "        vertical-align: middle;\n",
       "    }\n",
       "\n",
       "    .dataframe tbody tr th {\n",
       "        vertical-align: top;\n",
       "    }\n",
       "\n",
       "    .dataframe thead th {\n",
       "        text-align: right;\n",
       "    }\n",
       "</style>\n",
       "<table border=\"1\" class=\"dataframe\">\n",
       "  <thead>\n",
       "    <tr style=\"text-align: right;\">\n",
       "      <th></th>\n",
       "      <th>Tourist_Arrival_volume</th>\n",
       "    </tr>\n",
       "    <tr>\n",
       "      <th>Date</th>\n",
       "      <th></th>\n",
       "    </tr>\n",
       "  </thead>\n",
       "  <tbody>\n",
       "    <tr>\n",
       "      <th>2018-01-01</th>\n",
       "      <td>1074.0</td>\n",
       "    </tr>\n",
       "    <tr>\n",
       "      <th>2018-01-02</th>\n",
       "      <td>294.0</td>\n",
       "    </tr>\n",
       "    <tr>\n",
       "      <th>2018-01-03</th>\n",
       "      <td>196.0</td>\n",
       "    </tr>\n",
       "    <tr>\n",
       "      <th>2018-01-04</th>\n",
       "      <td>174.0</td>\n",
       "    </tr>\n",
       "    <tr>\n",
       "      <th>2018-01-05</th>\n",
       "      <td>192.0</td>\n",
       "    </tr>\n",
       "  </tbody>\n",
       "</table>\n",
       "</div>"
      ],
      "text/plain": [
       "            Tourist_Arrival_volume\n",
       "Date                              \n",
       "2018-01-01                  1074.0\n",
       "2018-01-02                   294.0\n",
       "2018-01-03                   196.0\n",
       "2018-01-04                   174.0\n",
       "2018-01-05                   192.0"
      ]
     },
     "execution_count": 2,
     "metadata": {},
     "output_type": "execute_result"
    }
   ],
   "source": [
    "siguniang = pd.read_csv('Mt_Siguniang_2018-2020.csv', index_col='Date', parse_dates = ['Date'])\n",
    "siguniang = siguniang.fillna(method=\"ffill\")\n",
    "siguniang.head()"
   ]
  },
  {
   "cell_type": "code",
   "execution_count": 3,
   "id": "d6180048",
   "metadata": {},
   "outputs": [
    {
     "data": {
      "text/html": [
       "<div>\n",
       "<style scoped>\n",
       "    .dataframe tbody tr th:only-of-type {\n",
       "        vertical-align: middle;\n",
       "    }\n",
       "\n",
       "    .dataframe tbody tr th {\n",
       "        vertical-align: top;\n",
       "    }\n",
       "\n",
       "    .dataframe thead th {\n",
       "        text-align: right;\n",
       "    }\n",
       "</style>\n",
       "<table border=\"1\" class=\"dataframe\">\n",
       "  <thead>\n",
       "    <tr style=\"text-align: right;\">\n",
       "      <th></th>\n",
       "      <th>Tourist_Arrival_volume</th>\n",
       "    </tr>\n",
       "    <tr>\n",
       "      <th>Date</th>\n",
       "      <th></th>\n",
       "    </tr>\n",
       "  </thead>\n",
       "  <tbody>\n",
       "    <tr>\n",
       "      <th>2018-01-01</th>\n",
       "      <td>1074.0</td>\n",
       "    </tr>\n",
       "    <tr>\n",
       "      <th>2018-01-02</th>\n",
       "      <td>294.0</td>\n",
       "    </tr>\n",
       "    <tr>\n",
       "      <th>2018-01-03</th>\n",
       "      <td>196.0</td>\n",
       "    </tr>\n",
       "    <tr>\n",
       "      <th>2018-01-04</th>\n",
       "      <td>174.0</td>\n",
       "    </tr>\n",
       "    <tr>\n",
       "      <th>2018-01-05</th>\n",
       "      <td>192.0</td>\n",
       "    </tr>\n",
       "    <tr>\n",
       "      <th>...</th>\n",
       "      <td>...</td>\n",
       "    </tr>\n",
       "    <tr>\n",
       "      <th>2020-01-24</th>\n",
       "      <td>152.0</td>\n",
       "    </tr>\n",
       "    <tr>\n",
       "      <th>2020-01-25</th>\n",
       "      <td>228.0</td>\n",
       "    </tr>\n",
       "    <tr>\n",
       "      <th>2020-01-26</th>\n",
       "      <td>599.0</td>\n",
       "    </tr>\n",
       "    <tr>\n",
       "      <th>2020-01-27</th>\n",
       "      <td>331.0</td>\n",
       "    </tr>\n",
       "    <tr>\n",
       "      <th>2020-01-28</th>\n",
       "      <td>253.0</td>\n",
       "    </tr>\n",
       "  </tbody>\n",
       "</table>\n",
       "<p>758 rows × 1 columns</p>\n",
       "</div>"
      ],
      "text/plain": [
       "            Tourist_Arrival_volume\n",
       "Date                              \n",
       "2018-01-01                  1074.0\n",
       "2018-01-02                   294.0\n",
       "2018-01-03                   196.0\n",
       "2018-01-04                   174.0\n",
       "2018-01-05                   192.0\n",
       "...                            ...\n",
       "2020-01-24                   152.0\n",
       "2020-01-25                   228.0\n",
       "2020-01-26                   599.0\n",
       "2020-01-27                   331.0\n",
       "2020-01-28                   253.0\n",
       "\n",
       "[758 rows x 1 columns]"
      ]
     },
     "execution_count": 3,
     "metadata": {},
     "output_type": "execute_result"
    }
   ],
   "source": [
    "siguniang"
   ]
  },
  {
   "cell_type": "code",
   "execution_count": 4,
   "id": "07f2e7d4",
   "metadata": {},
   "outputs": [
    {
     "data": {
      "image/png": "[encoded data removed]",
      "text/plain": [
       "<Figure size 432x288 with 1 Axes>"
      ]
     },
     "metadata": {
      "needs_background": "light"
     },
     "output_type": "display_data"
    }
   ],
   "source": [
    "plt.plot(siguniang)\n",
    "plt.title('Mt. Siguniang daily tourist arrival volume')\n",
    "plt.show()"
   ]
  },
  {
   "cell_type": "code",
   "execution_count": 5,
   "id": "1856935c",
   "metadata": {
    "scrolled": false
   },
   "outputs": [],
   "source": [
    "np.random.seed(7)"
   ]
  },
  {
   "cell_type": "code",
   "execution_count": 6,
   "id": "4dc4d5dc",
   "metadata": {},
   "outputs": [],
   "source": [
    "sig_ds = siguniang.values\n",
    "sig_ds = sig_ds.astype('float32')"
   ]
  },
  {
   "cell_type": "code",
   "execution_count": 7,
   "id": "bc2af595",
   "metadata": {},
   "outputs": [],
   "source": [
    "scaler = MinMaxScaler(feature_range=(0,1))\n",
    "sig_ds = scaler.fit_transform(sig_ds)\n",
    "len_sig = len(sig_ds)"
   ]
  },
  {
   "cell_type": "code",
   "execution_count": 8,
   "id": "e3e03628",
   "metadata": {},
   "outputs": [
    {
     "name": "stdout",
     "output_type": "stream",
     "text": [
      "659 99\n"
     ]
    }
   ],
   "source": [
    "train_size = int(len(sig_ds)*0.87)\n",
    "test_size = len_sig - train_size\n",
    "train, test = sig_ds[0:train_size, :], sig_ds[train_size:len_sig, :]\n",
    "print(len(train), len(test))"
   ]
  },
  {
   "cell_type": "code",
   "execution_count": 9,
   "id": "ac91c2e4",
   "metadata": {},
   "outputs": [],
   "source": [
    "def create_dataset(dataset, look_back=3):\n",
    "    X_data, Y_data = [], []\n",
    "    for i in range(len(dataset) - look_back - 1):\n",
    "        ds = dataset[i:(i+look_back), 0]\n",
    "        X_data.append(ds)\n",
    "        Y_data.append(dataset[i+look_back,0])\n",
    "    return np.array(X_data), np.array(Y_data)    "
   ]
  },
  {
   "cell_type": "code",
   "execution_count": 10,
   "id": "b9424217",
   "metadata": {},
   "outputs": [],
   "source": [
    "look_back = 3\n",
    "X_train, Y_train = create_dataset(train, look_back)\n",
    "X_test, Y_test = create_dataset(test, look_back)"
   ]
  },
  {
   "cell_type": "code",
   "execution_count": 11,
   "id": "b536ad7b",
   "metadata": {},
   "outputs": [],
   "source": [
    "X_train = np.reshape(X_train, (X_train.shape[0], 1, X_train.shape[1]))\n",
    "X_test = np.reshape(X_test, (X_test.shape[0], 1, X_test.shape[1]))"
   ]
  },
  {
   "cell_type": "code",
   "execution_count": 12,
   "id": "583fa23d",
   "metadata": {},
   "outputs": [
    {
     "data": {
      "text/plain": [
       "<keras.callbacks.History at 0x2428c643550>"
      ]
     },
     "execution_count": 12,
     "metadata": {},
     "output_type": "execute_result"
    }
   ],
   "source": [
    "model = Sequential()\n",
    "model.add(LSTM(50, activation='relu', input_shape=(1, look_back)))\n",
    "model.add(Dense(1))\n",
    "model.compile(optimizer='adam', loss='mse')\n",
    "model.fit(X_train, Y_train, epochs=50, verbose=0)"
   ]
  },
  {
   "cell_type": "code",
   "execution_count": 13,
   "id": "59b6d49a",
   "metadata": {},
   "outputs": [],
   "source": [
    "train_predict = model.predict(X_train)\n",
    "test_predict = model.predict(X_test)"
   ]
  },
  {
   "cell_type": "code",
   "execution_count": 14,
   "id": "76939648",
   "metadata": {},
   "outputs": [],
   "source": [
    "train_predict = scaler.inverse_transform(train_predict)\n",
    "Y_train = scaler.inverse_transform([Y_train])"
   ]
  },
  {
   "cell_type": "code",
   "execution_count": 15,
   "id": "f54ccbc8",
   "metadata": {},
   "outputs": [],
   "source": [
    "test_predict = scaler.inverse_transform(test_predict)\n",
    "Y_test = scaler.inverse_transform([Y_test])"
   ]
  },
  {
   "cell_type": "code",
   "execution_count": 16,
   "id": "6168b03f",
   "metadata": {},
   "outputs": [
    {
     "name": "stdout",
     "output_type": "stream",
     "text": [
      "Train score: 988.07 RMSE\n"
     ]
    }
   ],
   "source": [
    "train_score = math.sqrt(mean_squared_error(Y_train[0], train_predict[:, 0]))\n",
    "print('Train score: %.2f RMSE' % (train_score))"
   ]
  },
  {
   "cell_type": "code",
   "execution_count": 17,
   "id": "d3eb6116",
   "metadata": {},
   "outputs": [
    {
     "name": "stdout",
     "output_type": "stream",
     "text": [
      "Test score: 431.62 RMSE\n"
     ]
    }
   ],
   "source": [
    "test_score = math.sqrt(mean_squared_error(Y_test[0], test_predict[:, 0]))\n",
    "print('Test score: %.2f RMSE' % (test_score))"
   ]
  },
  {
   "cell_type": "code",
   "execution_count": 18,
   "id": "c855d6fb",
   "metadata": {},
   "outputs": [
    {
     "name": "stdout",
     "output_type": "stream",
     "text": [
      "Train score: 0.65 MAPE\n"
     ]
    }
   ],
   "source": [
    "train_mape = mean_absolute_percentage_error(Y_train[0], train_predict[:, 0])\n",
    "print('Train score: %.2f MAPE' % (train_mape))"
   ]
  },
  {
   "cell_type": "code",
   "execution_count": 19,
   "id": "326ce771",
   "metadata": {},
   "outputs": [
    {
     "name": "stdout",
     "output_type": "stream",
     "text": [
      "Test score: 0.78 MAPE\n"
     ]
    }
   ],
   "source": [
    "test_mape = mean_absolute_percentage_error(Y_test[0], test_predict[:, 0])\n",
    "print('Test score: %.2f MAPE' % (test_mape))"
   ]
  },
  {
   "cell_type": "code",
   "execution_count": 20,
   "id": "489aaa84",
   "metadata": {},
   "outputs": [],
   "source": [
    "trainPredictPlot = np.empty_like(sig_ds)\n",
    "trainPredictPlot[:, :] = np.nan\n",
    "trainPredictPlot[look_back:len(train_predict)+look_back, :] = train_predict"
   ]
  },
  {
   "cell_type": "code",
   "execution_count": 21,
   "id": "d810d8b9",
   "metadata": {},
   "outputs": [],
   "source": [
    "testPredictPlot = np.empty_like(sig_ds)\n",
    "testPredictPlot[:, :] = np.nan\n",
    "testPredictPlot[len(train_predict)+(look_back*2)+1:len_sig-1, :] = test_predict\n"
   ]
  },
  {
   "cell_type": "code",
   "execution_count": 22,
   "id": "0b606dd4",
   "metadata": {},
   "outputs": [
    {
     "data": {
      "image/png": "[encoded data removed]",
      "text/plain": [
       "<Figure size 432x288 with 1 Axes>"
      ]
     },
     "metadata": {
      "needs_background": "light"
     },
     "output_type": "display_data"
    }
   ],
   "source": [
    "plt.plot(scaler.inverse_transform(sig_ds))\n",
    "plt.plot(trainPredictPlot)\n",
    "plt.plot(testPredictPlot)\n",
    "plt.title(\"Vanilla LSTM\")\n",
    "plt.xlabel(\"Daily dates from Jan 2018 - Jan 2020\")\n",
    "plt.ylabel(\"Arrival volumes\")\n",
    "plt.show()"
   ]
  },
  {
   "cell_type": "code",
   "execution_count": 24,
   "id": "287a1c25",
   "metadata": {},
   "outputs": [],
   "source": [
    "look_back = 3\n",
    "X_train, Y_train = create_dataset(train, look_back)\n",
    "X_test, Y_test = create_dataset(test, look_back)"
   ]
  },
  {
   "cell_type": "code",
   "execution_count": 25,
   "id": "dc203fda",
   "metadata": {},
   "outputs": [],
   "source": [
    "X_train = np.reshape(X_train, (X_train.shape[0], 1, X_train.shape[1]))\n",
    "X_test = np.reshape(X_test, (X_test.shape[0], 1, X_test.shape[1]))"
   ]
  },
  {
   "cell_type": "code",
   "execution_count": 26,
   "id": "74661560",
   "metadata": {},
   "outputs": [
    {
     "data": {
      "text/plain": [
       "<keras.callbacks.History at 0x24294c7bc40>"
      ]
     },
     "execution_count": 26,
     "metadata": {},
     "output_type": "execute_result"
    }
   ],
   "source": [
    "model = Sequential()\n",
    "model.add(LSTM(50, activation='relu', return_sequences=True, input_shape=(1, look_back)))\n",
    "model.add(LSTM(50, activation='relu'))\n",
    "model.add(Dense(1))\n",
    "model.compile(optimizer='adam', loss='mse')\n",
    "model.fit(X_train, Y_train, epochs=50, verbose=0)"
   ]
  },
  {
   "cell_type": "code",
   "execution_count": 27,
   "id": "a780f690",
   "metadata": {},
   "outputs": [],
   "source": [
    "train_predict = model.predict(X_train)\n",
    "test_predict = model.predict(X_test)"
   ]
  },
  {
   "cell_type": "code",
   "execution_count": 28,
   "id": "aee63fb8",
   "metadata": {},
   "outputs": [],
   "source": [
    "train_predict = scaler.inverse_transform(train_predict)\n",
    "Y_train = scaler.inverse_transform([Y_train])"
   ]
  },
  {
   "cell_type": "code",
   "execution_count": 29,
   "id": "b47447d1",
   "metadata": {},
   "outputs": [],
   "source": [
    "test_predict = scaler.inverse_transform(test_predict)\n",
    "Y_test = scaler.inverse_transform([Y_test])"
   ]
  },
  {
   "cell_type": "code",
   "execution_count": 30,
   "id": "55c9edeb",
   "metadata": {},
   "outputs": [
    {
     "name": "stdout",
     "output_type": "stream",
     "text": [
      "Train score: 976.83 RMSE\n"
     ]
    }
   ],
   "source": [
    "train_score = math.sqrt(mean_squared_error(Y_train[0], train_predict[:, 0]))\n",
    "print('Train score: %.2f RMSE' % (train_score))"
   ]
  },
  {
   "cell_type": "code",
   "execution_count": 31,
   "id": "77084e47",
   "metadata": {},
   "outputs": [
    {
     "name": "stdout",
     "output_type": "stream",
     "text": [
      "Test score: 448.84 RMSE\n"
     ]
    }
   ],
   "source": [
    "test_score = math.sqrt(mean_squared_error(Y_test[0], test_predict[:, 0]))\n",
    "print('Test score: %.2f RMSE' % (test_score))"
   ]
  },
  {
   "cell_type": "code",
   "execution_count": 32,
   "id": "385fa0b4",
   "metadata": {},
   "outputs": [
    {
     "name": "stdout",
     "output_type": "stream",
     "text": [
      "Train score: 0.72 MAPE\n"
     ]
    }
   ],
   "source": [
    "train_mape = mean_absolute_percentage_error(Y_train[0], train_predict[:, 0])\n",
    "print('Train score: %.2f MAPE' % (train_mape))"
   ]
  },
  {
   "cell_type": "code",
   "execution_count": 33,
   "id": "9937e067",
   "metadata": {},
   "outputs": [
    {
     "name": "stdout",
     "output_type": "stream",
     "text": [
      "Test score: 0.86 MAPE\n"
     ]
    }
   ],
   "source": [
    "test_mape = mean_absolute_percentage_error(Y_test[0], test_predict[:, 0])\n",
    "print('Test score: %.2f MAPE' % (test_mape))"
   ]
  },
  {
   "cell_type": "code",
   "execution_count": 34,
   "id": "cbd556ac",
   "metadata": {},
   "outputs": [],
   "source": [
    "trainPredictPlot = np.empty_like(sig_ds)\n",
    "trainPredictPlot[:, :] = np.nan\n",
    "trainPredictPlot[look_back:len(train_predict)+look_back, :] = train_predict"
   ]
  },
  {
   "cell_type": "code",
   "execution_count": 35,
   "id": "430db391",
   "metadata": {},
   "outputs": [],
   "source": [
    "testPredictPlot = np.empty_like(sig_ds)\n",
    "testPredictPlot[:, :] = np.nan\n",
    "testPredictPlot[len(train_predict)+(look_back*2)+1:len_sig-1, :] = test_predict\n"
   ]
  },
  {
   "cell_type": "code",
   "execution_count": 36,
   "id": "e677c741",
   "metadata": {},
   "outputs": [
    {
     "data": {
      "image/png": "[encoded data removed]",
      "text/plain": [
       "<Figure size 432x288 with 1 Axes>"
      ]
     },
     "metadata": {
      "needs_background": "light"
     },
     "output_type": "display_data"
    }
   ],
   "source": [
    "plt.plot(scaler.inverse_transform(sig_ds))\n",
    "plt.plot(trainPredictPlot)\n",
    "plt.plot(testPredictPlot)\n",
    "plt.title(\"Stacked LSTM\")\n",
    "plt.xlabel(\"Daily dates from Jan 2018 - Jan 2020\")\n",
    "plt.ylabel(\"Arrival volumes\")\n",
    "plt.show()"
   ]
  },
  {
   "cell_type": "code",
   "execution_count": 37,
   "id": "751ae96b",
   "metadata": {},
   "outputs": [],
   "source": [
    "look_back = 3\n",
    "X_train, Y_train = create_dataset(train, look_back)\n",
    "X_test, Y_test = create_dataset(test, look_back)"
   ]
  },
  {
   "cell_type": "code",
   "execution_count": 38,
   "id": "f59d6649",
   "metadata": {},
   "outputs": [],
   "source": [
    "X_train = np.reshape(X_train, (X_train.shape[0], 1, X_train.shape[1]))\n",
    "X_test = np.reshape(X_test, (X_test.shape[0], 1, X_test.shape[1]))"
   ]
  },
  {
   "cell_type": "code",
   "execution_count": 39,
   "id": "f6327012",
   "metadata": {},
   "outputs": [
    {
     "data": {
      "text/plain": [
       "<keras.callbacks.History at 0x2429a624d60>"
      ]
     },
     "execution_count": 39,
     "metadata": {},
     "output_type": "execute_result"
    }
   ],
   "source": [
    "from keras.layers import Bidirectional\n",
    "model = Sequential()\n",
    "model.add(Bidirectional(LSTM(50, activation='relu'), input_shape=(1, look_back)))\n",
    "model.add(Dense(1))\n",
    "model.compile(optimizer='adam', loss='mse')\n",
    "model.fit(X_train, Y_train, epochs=50, verbose=0)"
   ]
  },
  {
   "cell_type": "code",
   "execution_count": 40,
   "id": "452864b2",
   "metadata": {},
   "outputs": [],
   "source": [
    "train_predict = model.predict(X_train)\n",
    "test_predict = model.predict(X_test)"
   ]
  },
  {
   "cell_type": "code",
   "execution_count": 41,
   "id": "0322abeb",
   "metadata": {},
   "outputs": [],
   "source": [
    "train_predict = scaler.inverse_transform(train_predict)\n",
    "Y_train = scaler.inverse_transform([Y_train])"
   ]
  },
  {
   "cell_type": "code",
   "execution_count": 42,
   "id": "8b2b9cba",
   "metadata": {},
   "outputs": [],
   "source": [
    "test_predict = scaler.inverse_transform(test_predict)\n",
    "Y_test = scaler.inverse_transform([Y_test])"
   ]
  },
  {
   "cell_type": "code",
   "execution_count": 43,
   "id": "4ab6b510",
   "metadata": {},
   "outputs": [
    {
     "name": "stdout",
     "output_type": "stream",
     "text": [
      "Train score: 994.55 RMSE\n"
     ]
    }
   ],
   "source": [
    "train_score = math.sqrt(mean_squared_error(Y_train[0], train_predict[:, 0]))\n",
    "print('Train score: %.2f RMSE' % (train_score))"
   ]
  },
  {
   "cell_type": "code",
   "execution_count": 44,
   "id": "a85f228a",
   "metadata": {},
   "outputs": [
    {
     "name": "stdout",
     "output_type": "stream",
     "text": [
      "Test score: 404.93 RMSE\n"
     ]
    }
   ],
   "source": [
    "test_score = math.sqrt(mean_squared_error(Y_test[0], test_predict[:, 0]))\n",
    "print('Test score: %.2f RMSE' % (test_score))"
   ]
  },
  {
   "cell_type": "code",
   "execution_count": 45,
   "id": "045dffb8",
   "metadata": {},
   "outputs": [
    {
     "name": "stdout",
     "output_type": "stream",
     "text": [
      "Train score: 0.44 MAPE\n"
     ]
    }
   ],
   "source": [
    "train_mape = mean_absolute_percentage_error(Y_train[0], train_predict[:, 0])\n",
    "print('Train score: %.2f MAPE' % (train_mape))"
   ]
  },
  {
   "cell_type": "code",
   "execution_count": 46,
   "id": "54ec9535",
   "metadata": {},
   "outputs": [
    {
     "name": "stdout",
     "output_type": "stream",
     "text": [
      "Test score: 0.51 MAPE\n"
     ]
    }
   ],
   "source": [
    "test_mape = mean_absolute_percentage_error(Y_test[0], test_predict[:, 0])\n",
    "print('Test score: %.2f MAPE' % (test_mape))"
   ]
  },
  {
   "cell_type": "code",
   "execution_count": 48,
   "id": "819d8a05",
   "metadata": {},
   "outputs": [],
   "source": [
    "trainPredictPlot = np.empty_like(sig_ds)\n",
    "trainPredictPlot[:, :] = np.nan\n",
    "trainPredictPlot[look_back:len(train_predict)+look_back, :] = train_predict"
   ]
  },
  {
   "cell_type": "code",
   "execution_count": 49,
   "id": "ba27e4f6",
   "metadata": {},
   "outputs": [],
   "source": [
    "testPredictPlot = np.empty_like(sig_ds)\n",
    "testPredictPlot[:, :] = np.nan\n",
    "testPredictPlot[len(train_predict)+(look_back*2)+1:len_sig-1, :] = test_predict\n"
   ]
  },
  {
   "cell_type": "code",
   "execution_count": 50,
   "id": "2a9a93ae",
   "metadata": {},
   "outputs": [
    {
     "data": {
      "image/png": "[encoded data removed]",
      "text/plain": [
       "<Figure size 432x288 with 1 Axes>"
      ]
     },
     "metadata": {
      "needs_background": "light"
     },
     "output_type": "display_data"
    }
   ],
   "source": [
    "plt.plot(scaler.inverse_transform(sig_ds))\n",
    "plt.plot(trainPredictPlot)\n",
    "plt.plot(testPredictPlot)\n",
    "plt.title(\"Bi-directional LSTM\")\n",
    "plt.xlabel(\"Daily dates from Jan 2018 - Jan 2020\")\n",
    "plt.ylabel(\"Arrival volumes\")\n",
    "plt.show()"
   ]
  },
  {
   "cell_type": "code",
   "execution_count": null,
   "id": "c340c3d3",
   "metadata": {},
   "outputs": [],
   "source": []
  }
 ],
 "metadata": {
  "kernelspec": {
   "display_name": "Python 3 (ipykernel)",
   "language": "python",
   "name": "python3"
  },
  "language_info": {
   "codemirror_mode": {
    "name": "ipython",
    "version": 3
   },
   "file_extension": ".py",
   "mimetype": "text/x-python",
   "name": "python",
   "nbconvert_exporter": "python",
   "pygments_lexer": "ipython3",
   "version": "3.9.7"
  }
 },
 "nbformat": 4,
 "nbformat_minor": 5
}
