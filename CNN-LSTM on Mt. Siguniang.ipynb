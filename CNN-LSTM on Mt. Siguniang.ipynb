{
 "cells": [
  {
   "cell_type": "code",
   "execution_count": 40,
   "id": "a124c221",
   "metadata": {},
   "outputs": [],
   "source": [
    "from numpy import array\n",
    "from keras.models import Sequential\n",
    "from keras.layers import LSTM\n",
    "from keras.layers import Dense\n",
    "from keras.layers import Flatten\n",
    "from keras.layers import TimeDistributed\n",
    "from keras.layers.convolutional import Conv1D\n",
    "from keras.layers.convolutional import MaxPooling1D\n",
    "import pandas as pd\n",
    "import math\n",
    "import numpy as np\n",
    "from sklearn.metrics import mean_squared_error\n",
    "from sklearn.metrics import mean_absolute_percentage_error\n",
    "import matplotlib.pyplot as plt\n",
    "from keras.layers import ConvLSTM2D"
   ]
  },
  {
   "cell_type": "code",
   "execution_count": 5,
   "id": "a4b36478",
   "metadata": {},
   "outputs": [],
   "source": [
    "def split_sequence(sequence, n_steps):\n",
    "    X, y = list(), list()\n",
    "    for i in range(len(sequence)):\n",
    "        end_ix = i + n_steps\n",
    "        if end_ix > len(sequence)-1:\n",
    "            break\n",
    "        seq_x, seq_y = sequence[i:end_ix], sequence[end_ix]\n",
    "        X.append(seq_x)\n",
    "        y.append(seq_y)\n",
    "    return array(X), array(y)"
   ]
  },
  {
   "cell_type": "code",
   "execution_count": 6,
   "id": "1a71d3b6",
   "metadata": {},
   "outputs": [
    {
     "data": {
      "text/html": [
       "<div>\n",
       "<style scoped>\n",
       "    .dataframe tbody tr th:only-of-type {\n",
       "        vertical-align: middle;\n",
       "    }\n",
       "\n",
       "    .dataframe tbody tr th {\n",
       "        vertical-align: top;\n",
       "    }\n",
       "\n",
       "    .dataframe thead th {\n",
       "        text-align: right;\n",
       "    }\n",
       "</style>\n",
       "<table border=\"1\" class=\"dataframe\">\n",
       "  <thead>\n",
       "    <tr style=\"text-align: right;\">\n",
       "      <th></th>\n",
       "      <th>Tourist_Arrival_volume</th>\n",
       "    </tr>\n",
       "    <tr>\n",
       "      <th>Date</th>\n",
       "      <th></th>\n",
       "    </tr>\n",
       "  </thead>\n",
       "  <tbody>\n",
       "    <tr>\n",
       "      <th>2018-01-01</th>\n",
       "      <td>1074.0</td>\n",
       "    </tr>\n",
       "    <tr>\n",
       "      <th>2018-01-02</th>\n",
       "      <td>294.0</td>\n",
       "    </tr>\n",
       "    <tr>\n",
       "      <th>2018-01-03</th>\n",
       "      <td>196.0</td>\n",
       "    </tr>\n",
       "    <tr>\n",
       "      <th>2018-01-04</th>\n",
       "      <td>174.0</td>\n",
       "    </tr>\n",
       "    <tr>\n",
       "      <th>2018-01-05</th>\n",
       "      <td>192.0</td>\n",
       "    </tr>\n",
       "  </tbody>\n",
       "</table>\n",
       "</div>"
      ],
      "text/plain": [
       "            Tourist_Arrival_volume\n",
       "Date                              \n",
       "2018-01-01                  1074.0\n",
       "2018-01-02                   294.0\n",
       "2018-01-03                   196.0\n",
       "2018-01-04                   174.0\n",
       "2018-01-05                   192.0"
      ]
     },
     "execution_count": 6,
     "metadata": {},
     "output_type": "execute_result"
    }
   ],
   "source": [
    "siguniang = pd.read_csv('Mt_Siguniang_2018-2020.csv', index_col='Date', parse_dates = ['Date'])\n",
    "siguniang = siguniang.fillna(method=\"ffill\")\n",
    "siguniang.head()"
   ]
  },
  {
   "cell_type": "code",
   "execution_count": 7,
   "id": "54b61d18",
   "metadata": {},
   "outputs": [],
   "source": [
    "sig_ds = siguniang.values\n",
    "sig_ds = sig_ds.astype('float32')"
   ]
  },
  {
   "cell_type": "code",
   "execution_count": 17,
   "id": "b7054e66",
   "metadata": {},
   "outputs": [],
   "source": [
    "n_features = 1\n",
    "n_seq = 2\n",
    "n_steps = 2"
   ]
  },
  {
   "cell_type": "code",
   "execution_count": 18,
   "id": "689d3871",
   "metadata": {},
   "outputs": [
    {
     "name": "stdout",
     "output_type": "stream",
     "text": [
      "659 99\n"
     ]
    }
   ],
   "source": [
    "train_size = int(len(sig_ds)*0.87)\n",
    "test_size = len(sig_ds) - train_size\n",
    "train, test = sig_ds[0:train_size, :], sig_ds[train_size:len(sig_ds), :]\n",
    "print(len(train), len(test))"
   ]
  },
  {
   "cell_type": "code",
   "execution_count": 19,
   "id": "23114ec9",
   "metadata": {},
   "outputs": [],
   "source": [
    "X_train, Y_train = split_sequence(train, 4)\n",
    "X_test, Y_test = split_sequence(test, 4)"
   ]
  },
  {
   "cell_type": "code",
   "execution_count": 20,
   "id": "25d40c03",
   "metadata": {},
   "outputs": [],
   "source": [
    "X_train = X_train.reshape((X_train.shape[0], n_seq, n_steps, n_features))\n",
    "X_test = X_test.reshape((X_test.shape[0],n_seq,n_steps,n_features))"
   ]
  },
  {
   "cell_type": "code",
   "execution_count": 21,
   "id": "5e276cea",
   "metadata": {},
   "outputs": [],
   "source": [
    "model = Sequential()\n",
    "model.add(TimeDistributed(Conv1D(filters=64, kernel_size=1, activation='relu'), input_shape=(None, n_steps, n_features)))\n",
    "model.add(TimeDistributed(MaxPooling1D(pool_size=2)))\n",
    "model.add(TimeDistributed(Flatten()))\n",
    "model.add(LSTM(50, activation='relu'))\n",
    "model.add(Dense(1))\n",
    "model.compile(optimizer='adam', loss='mse')"
   ]
  },
  {
   "cell_type": "code",
   "execution_count": 22,
   "id": "175a5708",
   "metadata": {},
   "outputs": [
    {
     "data": {
      "text/plain": [
       "<keras.callbacks.History at 0x2025c4afe80>"
      ]
     },
     "execution_count": 22,
     "metadata": {},
     "output_type": "execute_result"
    }
   ],
   "source": [
    "model.fit(X_train, Y_train, epochs=50, verbose=0)"
   ]
  },
  {
   "cell_type": "code",
   "execution_count": 23,
   "id": "8de2dbe9",
   "metadata": {},
   "outputs": [],
   "source": [
    "yhat_train = model.predict(X_train,verbose=0)"
   ]
  },
  {
   "cell_type": "code",
   "execution_count": 24,
   "id": "299b870c",
   "metadata": {},
   "outputs": [],
   "source": [
    "yhat_test = model.predict(X_test,verbose=0)"
   ]
  },
  {
   "cell_type": "code",
   "execution_count": 26,
   "id": "e21e7698",
   "metadata": {},
   "outputs": [
    {
     "name": "stdout",
     "output_type": "stream",
     "text": [
      "Train score: 1312.25 RMSE\n"
     ]
    }
   ],
   "source": [
    "train_score = math.sqrt(mean_squared_error(Y_train, yhat_train[:, 0]))\n",
    "print('Train score: %.2f RMSE' % (train_score))"
   ]
  },
  {
   "cell_type": "code",
   "execution_count": 27,
   "id": "add1efc6",
   "metadata": {},
   "outputs": [
    {
     "name": "stdout",
     "output_type": "stream",
     "text": [
      "Test score: 475.80 RMSE\n"
     ]
    }
   ],
   "source": [
    "test_score = math.sqrt(mean_squared_error(Y_test, yhat_test[:, 0]))\n",
    "print('Test score: %.2f RMSE' % (test_score))"
   ]
  },
  {
   "cell_type": "code",
   "execution_count": 28,
   "id": "ea18ae64",
   "metadata": {},
   "outputs": [
    {
     "name": "stdout",
     "output_type": "stream",
     "text": [
      "Train score: 0.54 MAPE\n"
     ]
    }
   ],
   "source": [
    "train_mape = mean_absolute_percentage_error(Y_train, yhat_train[:, 0])\n",
    "print('Train score: %.2f MAPE' % (train_mape))"
   ]
  },
  {
   "cell_type": "code",
   "execution_count": 29,
   "id": "b87977f5",
   "metadata": {},
   "outputs": [
    {
     "name": "stdout",
     "output_type": "stream",
     "text": [
      "Test score: 0.57 MAPE\n"
     ]
    }
   ],
   "source": [
    "test_mape = mean_absolute_percentage_error(Y_test, yhat_test[:, 0])\n",
    "print('Test score: %.2f MAPE' %(test_mape))"
   ]
  },
  {
   "cell_type": "code",
   "execution_count": 33,
   "id": "77a69de1",
   "metadata": {},
   "outputs": [],
   "source": [
    "sg_predicted = np.array(sig_ds,dtype='f')"
   ]
  },
  {
   "cell_type": "code",
   "execution_count": 34,
   "id": "f3857967",
   "metadata": {},
   "outputs": [],
   "source": [
    "trainPredictPlot = np.empty_like(mc_predicted)\n",
    "trainPredictPlot[:, :] = np.nan\n",
    "trainPredictPlot[4:len(yhat_train)+4, :] = yhat_train"
   ]
  },
  {
   "cell_type": "code",
   "execution_count": 35,
   "id": "b6edcd96",
   "metadata": {},
   "outputs": [],
   "source": [
    "testPredictPlot = np.empty_like(mc_predicted)\n",
    "testPredictPlot[:, :] = np.nan\n",
    "testPredictPlot[len(yhat_train)+(4*2):len(mc_predicted), :] = yhat_test"
   ]
  },
  {
   "cell_type": "code",
   "execution_count": 55,
   "id": "d01bbc9a",
   "metadata": {},
   "outputs": [
    {
     "data": {
      "image/png": "[encoded data removed]",
      "text/plain": [
       "<Figure size 432x288 with 1 Axes>"
      ]
     },
     "metadata": {
      "needs_background": "light"
     },
     "output_type": "display_data"
    }
   ],
   "source": [
    "plt.plot(sig_ds)\n",
    "plt.plot(trainPredictPlot)\n",
    "plt.plot(testPredictPlot)\n",
    "plt.xlabel(\"Daily dates from Jan 2018 - Jan 2020\")\n",
    "plt.ylabel(\"Arrival volumes\")\n",
    "plt.title(\"CNN-LSTM\")\n",
    "plt.show()"
   ]
  },
  {
   "cell_type": "code",
   "execution_count": 38,
   "id": "fb5cd164",
   "metadata": {},
   "outputs": [],
   "source": [
    "X_train = X_train.reshape((X_train.shape[0], n_seq, 1, n_steps, n_features))\n",
    "X_test = X_test.reshape((X_test.shape[0],n_seq,1,n_steps,n_features))"
   ]
  },
  {
   "cell_type": "code",
   "execution_count": 41,
   "id": "8c83070c",
   "metadata": {},
   "outputs": [],
   "source": [
    "model = Sequential()\n",
    "model.add(ConvLSTM2D(filters=64, kernel_size=(1,2), activation='relu', input_shape=(n_seq, 1, n_steps, n_features)))\n",
    "model.add(Flatten())\n",
    "model.add(Dense(1))\n",
    "model.compile(optimizer='adam', loss='mse')"
   ]
  },
  {
   "cell_type": "code",
   "execution_count": 42,
   "id": "50d582ac",
   "metadata": {},
   "outputs": [
    {
     "data": {
      "text/plain": [
       "<keras.callbacks.History at 0x2025c490c70>"
      ]
     },
     "execution_count": 42,
     "metadata": {},
     "output_type": "execute_result"
    }
   ],
   "source": [
    "model.fit(X_train, Y_train, epochs=50, verbose=0)"
   ]
  },
  {
   "cell_type": "code",
   "execution_count": 43,
   "id": "99a5e296",
   "metadata": {},
   "outputs": [],
   "source": [
    "yhat_train = model.predict(X_train,verbose=0)"
   ]
  },
  {
   "cell_type": "code",
   "execution_count": 44,
   "id": "95b4fca3",
   "metadata": {},
   "outputs": [],
   "source": [
    "yhat_test = model.predict(X_test,verbose=0)"
   ]
  },
  {
   "cell_type": "code",
   "execution_count": 45,
   "id": "a27c20e8",
   "metadata": {},
   "outputs": [
    {
     "name": "stdout",
     "output_type": "stream",
     "text": [
      "Train score: 1186.53 RMSE\n"
     ]
    }
   ],
   "source": [
    "train_score = math.sqrt(mean_squared_error(Y_train, yhat_train[:, 0]))\n",
    "print('Train score: %.2f RMSE' % (train_score))"
   ]
  },
  {
   "cell_type": "code",
   "execution_count": 46,
   "id": "f984c945",
   "metadata": {},
   "outputs": [
    {
     "name": "stdout",
     "output_type": "stream",
     "text": [
      "Test score: 397.79 RMSE\n"
     ]
    }
   ],
   "source": [
    "test_score = math.sqrt(mean_squared_error(Y_test, yhat_test[:, 0]))\n",
    "print('Test score: %.2f RMSE' % (test_score))"
   ]
  },
  {
   "cell_type": "code",
   "execution_count": 47,
   "id": "9d30fa02",
   "metadata": {},
   "outputs": [
    {
     "name": "stdout",
     "output_type": "stream",
     "text": [
      "Train score: 0.42 MAPE\n"
     ]
    }
   ],
   "source": [
    "train_mape = mean_absolute_percentage_error(Y_train, yhat_train[:, 0])\n",
    "print('Train score: %.2f MAPE' % (train_mape))"
   ]
  },
  {
   "cell_type": "code",
   "execution_count": 48,
   "id": "2f402622",
   "metadata": {},
   "outputs": [
    {
     "name": "stdout",
     "output_type": "stream",
     "text": [
      "Test score: 0.49 MAPE\n"
     ]
    }
   ],
   "source": [
    "test_mape = mean_absolute_percentage_error(Y_test, yhat_test[:, 0])\n",
    "print('Test score: %.2f MAPE' %(test_mape))"
   ]
  },
  {
   "cell_type": "code",
   "execution_count": 50,
   "id": "13028af9",
   "metadata": {},
   "outputs": [],
   "source": [
    "sg_predicted = np.array(sig_ds,dtype='f')"
   ]
  },
  {
   "cell_type": "code",
   "execution_count": 51,
   "id": "a5205b8e",
   "metadata": {},
   "outputs": [],
   "source": [
    "trainPredictPlot = np.empty_like(mc_predicted)\n",
    "trainPredictPlot[:, :] = np.nan\n",
    "trainPredictPlot[4:len(yhat_train)+4, :] = yhat_train"
   ]
  },
  {
   "cell_type": "code",
   "execution_count": 52,
   "id": "62eb501e",
   "metadata": {},
   "outputs": [],
   "source": [
    "testPredictPlot = np.empty_like(mc_predicted)\n",
    "testPredictPlot[:, :] = np.nan\n",
    "testPredictPlot[len(yhat_train)+(4*2):len(mc_predicted), :] = yhat_test"
   ]
  },
  {
   "cell_type": "code",
   "execution_count": 56,
   "id": "e12ae8c1",
   "metadata": {},
   "outputs": [
    {
     "data": {
      "image/png": "[encoded data removed]",
      "text/plain": [
       "<Figure size 432x288 with 1 Axes>"
      ]
     },
     "metadata": {
      "needs_background": "light"
     },
     "output_type": "display_data"
    }
   ],
   "source": [
    "plt.plot(sig_ds)\n",
    "plt.plot(trainPredictPlot)\n",
    "plt.plot(testPredictPlot)\n",
    "plt.title(\"ConvLSTM\")\n",
    "plt.xlabel(\"Daily dates from Jan 2018 - Jan 2020\")\n",
    "plt.ylabel(\"Arrival volumes\")\n",
    "plt.show()"
   ]
  },
  {
   "cell_type": "code",
   "execution_count": null,
   "id": "a6cd501e",
   "metadata": {},
   "outputs": [],
   "source": []
  }
 ],
 "metadata": {
  "kernelspec": {
   "display_name": "Python 3 (ipykernel)",
   "language": "python",
   "name": "python3"
  },
  "language_info": {
   "codemirror_mode": {
    "name": "ipython",
    "version": 3
   },
   "file_extension": ".py",
   "mimetype": "text/x-python",
   "name": "python",
   "nbconvert_exporter": "python",
   "pygments_lexer": "ipython3",
   "version": "3.9.7"
  }
 },
 "nbformat": 4,
 "nbformat_minor": 5
}
