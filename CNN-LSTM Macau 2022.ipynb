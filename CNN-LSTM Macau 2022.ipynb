{
 "cells": [
  {
   "cell_type": "markdown",
   "id": "0cd6e8f5",
   "metadata": {},
   "source": [
    "# Prediction Macau 2022"
   ]
  },
  {
   "cell_type": "code",
   "execution_count": 1,
   "id": "12911cd6",
   "metadata": {},
   "outputs": [],
   "source": [
    "from numpy import array\n",
    "from keras.models import Sequential\n",
    "from keras.layers import LSTM\n",
    "from keras.layers import Dense\n",
    "from keras.layers import Flatten\n",
    "from keras.layers import TimeDistributed\n",
    "from keras.layers.convolutional import Conv1D\n",
    "from keras.layers.convolutional import MaxPooling1D\n",
    "from keras.layers import ConvLSTM2D"
   ]
  },
  {
   "cell_type": "code",
   "execution_count": 2,
   "id": "8648fe21",
   "metadata": {},
   "outputs": [],
   "source": [
    "def split_sequence(sequence, n_steps):\n",
    "    X, y = list(), list()\n",
    "    for i in range(len(sequence)):\n",
    "        end_ix = i + n_steps\n",
    "        if end_ix > len(sequence)-1:\n",
    "            break\n",
    "        seq_x, seq_y = sequence[i:end_ix], sequence[end_ix]\n",
    "        X.append(seq_x)\n",
    "        y.append(seq_y)\n",
    "    return array(X), array(y)"
   ]
  },
  {
   "cell_type": "code",
   "execution_count": 3,
   "id": "d4ea0b78",
   "metadata": {},
   "outputs": [],
   "source": [
    "import pandas as pd"
   ]
  },
  {
   "cell_type": "code",
   "execution_count": 4,
   "id": "cea29d86",
   "metadata": {},
   "outputs": [
    {
     "data": {
      "text/html": [
       "<div>\n",
       "<style scoped>\n",
       "    .dataframe tbody tr th:only-of-type {\n",
       "        vertical-align: middle;\n",
       "    }\n",
       "\n",
       "    .dataframe tbody tr th {\n",
       "        vertical-align: top;\n",
       "    }\n",
       "\n",
       "    .dataframe thead th {\n",
       "        text-align: right;\n",
       "    }\n",
       "</style>\n",
       "<table border=\"1\" class=\"dataframe\">\n",
       "  <thead>\n",
       "    <tr style=\"text-align: right;\">\n",
       "      <th></th>\n",
       "      <th>arrival</th>\n",
       "    </tr>\n",
       "    <tr>\n",
       "      <th>date</th>\n",
       "      <th></th>\n",
       "    </tr>\n",
       "  </thead>\n",
       "  <tbody>\n",
       "    <tr>\n",
       "      <th>2011-01-01</th>\n",
       "      <td>2076066</td>\n",
       "    </tr>\n",
       "    <tr>\n",
       "      <th>2011-02-01</th>\n",
       "      <td>2164249</td>\n",
       "    </tr>\n",
       "    <tr>\n",
       "      <th>2011-03-01</th>\n",
       "      <td>2190865</td>\n",
       "    </tr>\n",
       "    <tr>\n",
       "      <th>2011-04-01</th>\n",
       "      <td>2338449</td>\n",
       "    </tr>\n",
       "    <tr>\n",
       "      <th>2011-05-01</th>\n",
       "      <td>2295551</td>\n",
       "    </tr>\n",
       "  </tbody>\n",
       "</table>\n",
       "</div>"
      ],
      "text/plain": [
       "            arrival\n",
       "date               \n",
       "2011-01-01  2076066\n",
       "2011-02-01  2164249\n",
       "2011-03-01  2190865\n",
       "2011-04-01  2338449\n",
       "2011-05-01  2295551"
      ]
     },
     "execution_count": 4,
     "metadata": {},
     "output_type": "execute_result"
    }
   ],
   "source": [
    "macau = pd.read_csv('Macau-2022.csv', index_col='date', parse_dates = ['date'])\n",
    "macau = macau.fillna(method=\"ffill\")\n",
    "macau.head()"
   ]
  },
  {
   "cell_type": "code",
   "execution_count": 5,
   "id": "2bd5abb7",
   "metadata": {},
   "outputs": [],
   "source": [
    "mc_values = macau.values"
   ]
  },
  {
   "cell_type": "code",
   "execution_count": 6,
   "id": "c9292eda",
   "metadata": {},
   "outputs": [],
   "source": [
    "n_steps = 4"
   ]
  },
  {
   "cell_type": "code",
   "execution_count": 7,
   "id": "b447ef3c",
   "metadata": {},
   "outputs": [],
   "source": [
    "X, y = split_sequence(mc_values, n_steps)"
   ]
  },
  {
   "cell_type": "code",
   "execution_count": 8,
   "id": "1b821c30",
   "metadata": {},
   "outputs": [],
   "source": [
    "n_features = 1\n",
    "n_seq = 2\n",
    "n_steps = 2\n",
    "X = X.reshape((X.shape[0], n_seq, n_steps, n_features))"
   ]
  },
  {
   "cell_type": "code",
   "execution_count": 9,
   "id": "e050a6e8",
   "metadata": {},
   "outputs": [],
   "source": [
    "#CNN-LSTM model\n",
    "model = Sequential()\n",
    "model.add(TimeDistributed(Conv1D(filters=64, kernel_size=1, activation='relu'), input_shape=(None, n_steps, n_features)))\n",
    "model.add(TimeDistributed(MaxPooling1D(pool_size=2)))\n",
    "model.add(TimeDistributed(Flatten()))\n",
    "model.add(LSTM(50, activation='relu'))\n",
    "model.add(Dense(1))\n",
    "model.compile(optimizer='adam', loss='mse')"
   ]
  },
  {
   "cell_type": "code",
   "execution_count": 10,
   "id": "30cf592d",
   "metadata": {},
   "outputs": [
    {
     "data": {
      "text/plain": [
       "<keras.callbacks.History at 0x1f13e361bb0>"
      ]
     },
     "execution_count": 10,
     "metadata": {},
     "output_type": "execute_result"
    }
   ],
   "source": [
    "model.fit(X, y, epochs=50, verbose=0)"
   ]
  },
  {
   "cell_type": "code",
   "execution_count": 11,
   "id": "73c0bd88",
   "metadata": {},
   "outputs": [
    {
     "name": "stdout",
     "output_type": "stream",
     "text": [
      "Predicted Value Feb 2022:  762110\n",
      "Actual Value Feb 2022:  655505\n",
      "MAPE: 0.16\n"
     ]
    }
   ],
   "source": [
    "#MAPE Calculation for Feb 2022\n",
    "x_input = array([328245, 801300, 820870, 694430])\n",
    "x_input = x_input.reshape((1, n_seq, n_steps, n_features))\n",
    "yhat = model.predict(x_input, verbose=0)\n",
    "yhat = int(yhat)\n",
    "print(\"Predicted Value Feb 2022: \", yhat)\n",
    "feb = 655505\n",
    "print(\"Actual Value Feb 2022: \", feb)\n",
    "MAPE = abs(feb - yhat)/feb\n",
    "print(\"MAPE: %.2f\" %(MAPE))"
   ]
  },
  {
   "cell_type": "code",
   "execution_count": 12,
   "id": "83398913",
   "metadata": {},
   "outputs": [
    {
     "name": "stdout",
     "output_type": "stream",
     "text": [
      "Prediction for March 2022 705567\n",
      "Actual Value March 2022:  526912\n",
      "MAPE: 0.34\n"
     ]
    }
   ],
   "source": [
    "#Prediction for March 2022\n",
    "x_input = array([801300, 820870, 694430, 655505])\n",
    "x_input = x_input.reshape((1, n_seq, n_steps, n_features))\n",
    "yhat = model.predict(x_input, verbose=0)\n",
    "yhat = int(yhat)\n",
    "print(\"Prediction for March 2022\", yhat)\n",
    "march = 526912\n",
    "print(\"Actual Value March 2022: \", march)\n",
    "MAPE = abs(march - yhat)/march\n",
    "print(\"MAPE: %.2f\" %(MAPE))"
   ]
  },
  {
   "cell_type": "code",
   "execution_count": 13,
   "id": "9a221844",
   "metadata": {},
   "outputs": [
    {
     "name": "stdout",
     "output_type": "stream",
     "text": [
      "Prediction for April 2022 684776\n"
     ]
    }
   ],
   "source": [
    "#Prediction for April 2022\n",
    "x_input = array([820870, 694430, 655505, 526912])\n",
    "x_input = x_input.reshape((1, n_seq, n_steps, n_features))\n",
    "yhat = model.predict(x_input, verbose=0)\n",
    "yhat = int(yhat)\n",
    "print(\"Prediction for April 2022\", yhat)"
   ]
  },
  {
   "cell_type": "code",
   "execution_count": 14,
   "id": "546dc9c2",
   "metadata": {},
   "outputs": [],
   "source": [
    "X = X.reshape((X.shape[0], n_seq, 1, n_steps, n_features))"
   ]
  },
  {
   "cell_type": "code",
   "execution_count": 15,
   "id": "33cbe993",
   "metadata": {},
   "outputs": [],
   "source": [
    "#ConvLSTM model\n",
    "model = Sequential()\n",
    "model.add(ConvLSTM2D(filters=64, kernel_size=(1,2), activation='relu', input_shape=(n_seq, 1, n_steps, n_features)))\n",
    "model.add(Flatten())\n",
    "model.add(Dense(1))\n",
    "model.compile(optimizer='adam', loss='mse')"
   ]
  },
  {
   "cell_type": "code",
   "execution_count": 16,
   "id": "4159d4dd",
   "metadata": {},
   "outputs": [
    {
     "data": {
      "text/plain": [
       "<keras.callbacks.History at 0x1f1419ac310>"
      ]
     },
     "execution_count": 16,
     "metadata": {},
     "output_type": "execute_result"
    }
   ],
   "source": [
    "model.fit(X, y, epochs=50, verbose=0)"
   ]
  },
  {
   "cell_type": "code",
   "execution_count": 17,
   "id": "eca89fc1",
   "metadata": {},
   "outputs": [
    {
     "name": "stdout",
     "output_type": "stream",
     "text": [
      "Predicted Value Feb 2022:  587574\n",
      "Actual Value Feb 2022:  655505\n",
      "MAPE: 0.10\n"
     ]
    }
   ],
   "source": [
    "#MAPE Calculation for Feb 2022\n",
    "x_input = array([328245, 801300, 820870, 694430])\n",
    "x_input = x_input.reshape((1, n_seq, 1, n_steps, n_features))\n",
    "yhat = model.predict(x_input, verbose=0)\n",
    "yhat = int(yhat)\n",
    "print(\"Predicted Value Feb 2022: \", yhat)\n",
    "feb = 655505\n",
    "print(\"Actual Value Feb 2022: \", feb)\n",
    "MAPE = abs(feb - yhat)/feb\n",
    "print(\"MAPE: %.2f\" %(MAPE))"
   ]
  },
  {
   "cell_type": "code",
   "execution_count": 18,
   "id": "7bfe2a55",
   "metadata": {},
   "outputs": [
    {
     "name": "stdout",
     "output_type": "stream",
     "text": [
      "Prediction for March 2022 764688\n",
      "Actual Value March 2022:  526912\n",
      "MAPE: 0.45\n"
     ]
    }
   ],
   "source": [
    "#Prediction for March 2022\n",
    "x_input = array([801300, 820870, 694430, 655505])\n",
    "x_input = x_input.reshape((1, n_seq,1, n_steps, n_features))\n",
    "yhat = model.predict(x_input, verbose=0)\n",
    "yhat = int(yhat)\n",
    "print(\"Prediction for March 2022\", yhat)\n",
    "march = 526912\n",
    "print(\"Actual Value March 2022: \", march)\n",
    "MAPE = abs(march - yhat)/march\n",
    "print(\"MAPE: %.2f\" %(MAPE))"
   ]
  },
  {
   "cell_type": "code",
   "execution_count": 19,
   "id": "64d49cfc",
   "metadata": {},
   "outputs": [
    {
     "name": "stdout",
     "output_type": "stream",
     "text": [
      "Prediction for April 2022 667350\n"
     ]
    }
   ],
   "source": [
    "#Prediction for April 2022\n",
    "x_input = array([820870, 694430, 655505, 526912])\n",
    "x_input = x_input.reshape((1, n_seq,1, n_steps, n_features))\n",
    "yhat = model.predict(x_input, verbose=0)\n",
    "yhat = int(yhat)\n",
    "print(\"Prediction for April 2022\", yhat)"
   ]
  },
  {
   "cell_type": "markdown",
   "id": "4cbe0724",
   "metadata": {},
   "source": [
    "# Analysis and Error calculation for train and test data "
   ]
  },
  {
   "cell_type": "code",
   "execution_count": 20,
   "id": "08f615f1",
   "metadata": {},
   "outputs": [
    {
     "name": "stdout",
     "output_type": "stream",
     "text": [
      "116 18\n"
     ]
    }
   ],
   "source": [
    "train_size = int(len(mc_values)*0.87)\n",
    "test_size = len(mc_values) - train_size\n",
    "train, test = mc_values[0:train_size, :], mc_values[train_size:len(mc_values), :]\n",
    "print(len(train), len(test))"
   ]
  },
  {
   "cell_type": "code",
   "execution_count": 21,
   "id": "72a77a5e",
   "metadata": {},
   "outputs": [],
   "source": [
    "X_train, Y_train = split_sequence(train, 4)\n",
    "X_test, Y_test = split_sequence(test, 4)"
   ]
  },
  {
   "cell_type": "code",
   "execution_count": 22,
   "id": "632998da",
   "metadata": {},
   "outputs": [],
   "source": [
    "X_train = X_train.reshape((X_train.shape[0], n_seq, n_steps, n_features))\n",
    "X_test = X_test.reshape((X_test.shape[0],n_seq,n_steps,n_features))"
   ]
  },
  {
   "cell_type": "code",
   "execution_count": 23,
   "id": "ee47f998",
   "metadata": {},
   "outputs": [],
   "source": [
    "model = Sequential()\n",
    "model.add(TimeDistributed(Conv1D(filters=64, kernel_size=1, activation='relu'), input_shape=(None, n_steps, n_features)))\n",
    "model.add(TimeDistributed(MaxPooling1D(pool_size=2)))\n",
    "model.add(TimeDistributed(Flatten()))\n",
    "model.add(LSTM(50, activation='relu'))\n",
    "model.add(Dense(1))\n",
    "model.compile(optimizer='adam', loss='mse')"
   ]
  },
  {
   "cell_type": "code",
   "execution_count": 24,
   "id": "ee68b2b9",
   "metadata": {},
   "outputs": [
    {
     "data": {
      "text/plain": [
       "<keras.callbacks.History at 0x1f145dbcc10>"
      ]
     },
     "execution_count": 24,
     "metadata": {},
     "output_type": "execute_result"
    }
   ],
   "source": [
    "model.fit(X_train, Y_train, epochs=50, verbose=0)"
   ]
  },
  {
   "cell_type": "code",
   "execution_count": 25,
   "id": "397fa604",
   "metadata": {},
   "outputs": [],
   "source": [
    "yhat_train = model.predict(X_train,verbose=0)"
   ]
  },
  {
   "cell_type": "code",
   "execution_count": 26,
   "id": "a027f3b2",
   "metadata": {},
   "outputs": [],
   "source": [
    "yhat_test = model.predict(X_test,verbose=0)"
   ]
  },
  {
   "cell_type": "code",
   "execution_count": 27,
   "id": "fb0cc915",
   "metadata": {},
   "outputs": [],
   "source": [
    "import math\n",
    "import numpy as np\n",
    "from sklearn.metrics import mean_squared_error\n",
    "from sklearn.metrics import mean_absolute_percentage_error\n",
    "import matplotlib.pyplot as plt"
   ]
  },
  {
   "cell_type": "code",
   "execution_count": 28,
   "id": "acdfbbe5",
   "metadata": {},
   "outputs": [
    {
     "name": "stdout",
     "output_type": "stream",
     "text": [
      "Train score: 422850.77 RMSE\n"
     ]
    }
   ],
   "source": [
    "train_score = math.sqrt(mean_squared_error(Y_train, yhat_train[:, 0]))\n",
    "print('Train score: %.2f RMSE' % (train_score))"
   ]
  },
  {
   "cell_type": "code",
   "execution_count": 29,
   "id": "9150450a",
   "metadata": {},
   "outputs": [
    {
     "name": "stdout",
     "output_type": "stream",
     "text": [
      "Test score: 180573.48 RMSE\n"
     ]
    }
   ],
   "source": [
    "test_score = math.sqrt(mean_squared_error(Y_test, yhat_test[:, 0]))\n",
    "print('Test score: %.2f RMSE' % (test_score))"
   ]
  },
  {
   "cell_type": "code",
   "execution_count": 30,
   "id": "d3df929b",
   "metadata": {},
   "outputs": [
    {
     "name": "stdout",
     "output_type": "stream",
     "text": [
      "Train score: 0.38 MAPE\n"
     ]
    }
   ],
   "source": [
    "train_mape = mean_absolute_percentage_error(Y_train, yhat_train[:, 0])\n",
    "print('Train score: %.2f MAPE' % (train_mape))"
   ]
  },
  {
   "cell_type": "code",
   "execution_count": 31,
   "id": "21308456",
   "metadata": {},
   "outputs": [
    {
     "name": "stdout",
     "output_type": "stream",
     "text": [
      "Test score: 0.29 MAPE\n"
     ]
    }
   ],
   "source": [
    "test_mape = mean_absolute_percentage_error(Y_test, yhat_test[:, 0])\n",
    "print('Test score: %.2f MAPE' %(test_mape))"
   ]
  },
  {
   "cell_type": "code",
   "execution_count": 32,
   "id": "59783def",
   "metadata": {},
   "outputs": [],
   "source": [
    "mc_predicted = np.array(mc_values,dtype='f')"
   ]
  },
  {
   "cell_type": "code",
   "execution_count": 33,
   "id": "37a7fc1f",
   "metadata": {},
   "outputs": [],
   "source": [
    "trainPredictPlot = np.empty_like(mc_predicted)\n",
    "trainPredictPlot[:, :] = np.nan\n",
    "trainPredictPlot[4:len(yhat_train)+4, :] = yhat_train"
   ]
  },
  {
   "cell_type": "code",
   "execution_count": 34,
   "id": "ef05e584",
   "metadata": {},
   "outputs": [],
   "source": [
    "testPredictPlot = np.empty_like(mc_predicted)\n",
    "testPredictPlot[:, :] = np.nan\n",
    "testPredictPlot[len(yhat_train)+(4*2):len(mc_predicted), :] = yhat_test"
   ]
  },
  {
   "cell_type": "code",
   "execution_count": 35,
   "id": "b88e16d4",
   "metadata": {},
   "outputs": [
    {
     "data": {
      "image/png": "[encoded data removed]",
      "text/plain": [
       "<Figure size 432x288 with 1 Axes>"
      ]
     },
     "metadata": {
      "needs_background": "light"
     },
     "output_type": "display_data"
    }
   ],
   "source": [
    "plt.plot(mc_values)\n",
    "plt.plot(trainPredictPlot)\n",
    "plt.plot(testPredictPlot)\n",
    "plt.xlabel(\"Month number 'Jan 2011 - Feb 2022'\")\n",
    "plt.ylabel(\"Arrival volumes in lakhs\")\n",
    "plt.title(\"CNN-LSTM\")\n",
    "plt.show()"
   ]
  },
  {
   "cell_type": "code",
   "execution_count": 36,
   "id": "19089ea2",
   "metadata": {},
   "outputs": [],
   "source": [
    "X_train = X_train.reshape((X_train.shape[0], n_seq, 1, n_steps, n_features))\n",
    "X_test = X_test.reshape((X_test.shape[0],n_seq, 1, n_steps, n_features))"
   ]
  },
  {
   "cell_type": "code",
   "execution_count": 37,
   "id": "fdb9134b",
   "metadata": {},
   "outputs": [],
   "source": [
    "model = Sequential()\n",
    "model.add(ConvLSTM2D(filters=64, kernel_size=(1,2), activation='relu', input_shape=(n_seq, 1, n_steps, n_features)))\n",
    "model.add(Flatten())\n",
    "model.add(Dense(1))\n",
    "model.compile(optimizer='adam', loss='mse')"
   ]
  },
  {
   "cell_type": "code",
   "execution_count": 38,
   "id": "1a769250",
   "metadata": {},
   "outputs": [
    {
     "data": {
      "text/plain": [
       "<keras.callbacks.History at 0x1f13f5cad60>"
      ]
     },
     "execution_count": 38,
     "metadata": {},
     "output_type": "execute_result"
    }
   ],
   "source": [
    "model.fit(X_train, Y_train, epochs=50, verbose=0)"
   ]
  },
  {
   "cell_type": "code",
   "execution_count": 39,
   "id": "ddd1a56c",
   "metadata": {},
   "outputs": [],
   "source": [
    "yhat_train = model.predict(X_train,verbose=0)"
   ]
  },
  {
   "cell_type": "code",
   "execution_count": 40,
   "id": "dd9fa992",
   "metadata": {},
   "outputs": [],
   "source": [
    "yhat_test = model.predict(X_test,verbose=0)"
   ]
  },
  {
   "cell_type": "code",
   "execution_count": 41,
   "id": "7696543c",
   "metadata": {},
   "outputs": [
    {
     "name": "stdout",
     "output_type": "stream",
     "text": [
      "Train score: 384944.57 RMSE\n"
     ]
    }
   ],
   "source": [
    "train_score = math.sqrt(mean_squared_error(Y_train, yhat_train[:, 0]))\n",
    "print('Train score: %.2f RMSE' % (train_score))"
   ]
  },
  {
   "cell_type": "code",
   "execution_count": 42,
   "id": "ffef44fc",
   "metadata": {},
   "outputs": [
    {
     "name": "stdout",
     "output_type": "stream",
     "text": [
      "Test score: 271487.99 RMSE\n"
     ]
    }
   ],
   "source": [
    "test_score = math.sqrt(mean_squared_error(Y_test, yhat_test[:, 0]))\n",
    "print('Test score: %.2f RMSE' % (test_score))"
   ]
  },
  {
   "cell_type": "code",
   "execution_count": 43,
   "id": "1d4d1e63",
   "metadata": {
    "scrolled": true
   },
   "outputs": [
    {
     "name": "stdout",
     "output_type": "stream",
     "text": [
      "Train score: 0.46 MAPE\n"
     ]
    }
   ],
   "source": [
    "train_mape = mean_absolute_percentage_error(Y_train, yhat_train[:, 0])\n",
    "print('Train score: %.2f MAPE' % (train_mape))"
   ]
  },
  {
   "cell_type": "code",
   "execution_count": 44,
   "id": "230fc0d0",
   "metadata": {},
   "outputs": [
    {
     "name": "stdout",
     "output_type": "stream",
     "text": [
      "Test score: 0.40 MAPE\n"
     ]
    }
   ],
   "source": [
    "test_mape = mean_absolute_percentage_error(Y_test, yhat_test[:, 0])\n",
    "print('Test score: %.2f MAPE' %(test_mape))"
   ]
  },
  {
   "cell_type": "code",
   "execution_count": 45,
   "id": "b0907be8",
   "metadata": {},
   "outputs": [],
   "source": [
    "mc_predicted = np.array(mc_values,dtype='f')"
   ]
  },
  {
   "cell_type": "code",
   "execution_count": 46,
   "id": "920e6590",
   "metadata": {},
   "outputs": [],
   "source": [
    "trainPredictPlot = np.empty_like(mc_predicted)\n",
    "trainPredictPlot[:, :] = np.nan\n",
    "trainPredictPlot[4:len(yhat_train)+4, :] = yhat_train"
   ]
  },
  {
   "cell_type": "code",
   "execution_count": 47,
   "id": "62679c2b",
   "metadata": {},
   "outputs": [],
   "source": [
    "testPredictPlot = np.empty_like(mc_predicted)\n",
    "testPredictPlot[:, :] = np.nan\n",
    "testPredictPlot[len(yhat_train)+(4*2):len(mc_predicted), :] = yhat_test"
   ]
  },
  {
   "cell_type": "code",
   "execution_count": 48,
   "id": "9654046e",
   "metadata": {},
   "outputs": [
    {
     "data": {
      "image/png": "[encoded data removed]",
      "text/plain": [
       "<Figure size 432x288 with 1 Axes>"
      ]
     },
     "metadata": {
      "needs_background": "light"
     },
     "output_type": "display_data"
    }
   ],
   "source": [
    "plt.plot(mc_values)\n",
    "plt.plot(trainPredictPlot)\n",
    "plt.plot(testPredictPlot)\n",
    "plt.title(\"ConvLSTM\")\n",
    "plt.xlabel(\"Month number 'Jan 2011 - Feb 2022'\")\n",
    "plt.ylabel(\"Arrival volumes in lakhs\")\n",
    "plt.show()"
   ]
  },
  {
   "cell_type": "code",
   "execution_count": null,
   "id": "ea7921ca",
   "metadata": {},
   "outputs": [],
   "source": []
  }
 ],
 "metadata": {
  "kernelspec": {
   "display_name": "Python 3 (ipykernel)",
   "language": "python",
   "name": "python3"
  },
  "language_info": {
   "codemirror_mode": {
    "name": "ipython",
    "version": 3
   },
   "file_extension": ".py",
   "mimetype": "text/x-python",
   "name": "python",
   "nbconvert_exporter": "python",
   "pygments_lexer": "ipython3",
   "version": "3.9.7"
  }
 },
 "nbformat": 4,
 "nbformat_minor": 5
}
