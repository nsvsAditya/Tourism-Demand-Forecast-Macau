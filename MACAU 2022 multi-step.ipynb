{
 "cells": [
  {
   "cell_type": "code",
   "execution_count": 1,
   "id": "066d8144",
   "metadata": {},
   "outputs": [],
   "source": [
    "from numpy import array\n",
    "import pandas as pd\n",
    "from keras.models import Sequential\n",
    "from keras.layers import LSTM\n",
    "from keras.layers import Dense\n",
    "from keras.layers import Bidirectional\n",
    "from keras.layers.convolutional import Conv1D\n",
    "from keras.layers.convolutional import MaxPooling1D\n",
    "from keras.layers import Flatten"
   ]
  },
  {
   "cell_type": "code",
   "execution_count": 2,
   "id": "0bc1dce9",
   "metadata": {},
   "outputs": [],
   "source": [
    "def split_sequence(sequence, n_steps_in, n_steps_out):\n",
    "    X, y = list(), list()\n",
    "    for i in range(len(sequence)):\n",
    "        # find the end of this pattern\n",
    "        end_ix = i + n_steps_in\n",
    "        out_end_ix = end_ix + n_steps_out\n",
    "        # check if we are beyond the sequence\n",
    "        if out_end_ix > len(sequence):\n",
    "            break\n",
    "        # gather input and output parts of the pattern\n",
    "        seq_x, seq_y = sequence[i:end_ix], sequence[end_ix:out_end_ix]\n",
    "        X.append(seq_x)\n",
    "        y.append(seq_y)\n",
    "    return array(X), array(y)"
   ]
  },
  {
   "cell_type": "code",
   "execution_count": 3,
   "id": "9cf50765",
   "metadata": {},
   "outputs": [],
   "source": [
    "macau = pd.read_csv('Macau-2022.csv', index_col='date', parse_dates = ['date'])"
   ]
  },
  {
   "cell_type": "code",
   "execution_count": 4,
   "id": "ab37dfff",
   "metadata": {},
   "outputs": [
    {
     "data": {
      "text/html": [
       "<div>\n",
       "<style scoped>\n",
       "    .dataframe tbody tr th:only-of-type {\n",
       "        vertical-align: middle;\n",
       "    }\n",
       "\n",
       "    .dataframe tbody tr th {\n",
       "        vertical-align: top;\n",
       "    }\n",
       "\n",
       "    .dataframe thead th {\n",
       "        text-align: right;\n",
       "    }\n",
       "</style>\n",
       "<table border=\"1\" class=\"dataframe\">\n",
       "  <thead>\n",
       "    <tr style=\"text-align: right;\">\n",
       "      <th></th>\n",
       "      <th>arrival</th>\n",
       "    </tr>\n",
       "    <tr>\n",
       "      <th>date</th>\n",
       "      <th></th>\n",
       "    </tr>\n",
       "  </thead>\n",
       "  <tbody>\n",
       "    <tr>\n",
       "      <th>2011-01-01</th>\n",
       "      <td>2076066</td>\n",
       "    </tr>\n",
       "    <tr>\n",
       "      <th>2011-02-01</th>\n",
       "      <td>2164249</td>\n",
       "    </tr>\n",
       "    <tr>\n",
       "      <th>2011-03-01</th>\n",
       "      <td>2190865</td>\n",
       "    </tr>\n",
       "    <tr>\n",
       "      <th>2011-04-01</th>\n",
       "      <td>2338449</td>\n",
       "    </tr>\n",
       "    <tr>\n",
       "      <th>2011-05-01</th>\n",
       "      <td>2295551</td>\n",
       "    </tr>\n",
       "  </tbody>\n",
       "</table>\n",
       "</div>"
      ],
      "text/plain": [
       "            arrival\n",
       "date               \n",
       "2011-01-01  2076066\n",
       "2011-02-01  2164249\n",
       "2011-03-01  2190865\n",
       "2011-04-01  2338449\n",
       "2011-05-01  2295551"
      ]
     },
     "execution_count": 4,
     "metadata": {},
     "output_type": "execute_result"
    }
   ],
   "source": [
    "macau.head()"
   ]
  },
  {
   "cell_type": "code",
   "execution_count": 5,
   "id": "43bd36f5",
   "metadata": {},
   "outputs": [],
   "source": [
    "mc_values = macau.values"
   ]
  },
  {
   "cell_type": "code",
   "execution_count": 6,
   "id": "123732f0",
   "metadata": {},
   "outputs": [],
   "source": [
    "n_steps_in = 4\n",
    "n_steps_out = 2"
   ]
  },
  {
   "cell_type": "code",
   "execution_count": 7,
   "id": "84297045",
   "metadata": {},
   "outputs": [],
   "source": [
    "X, y = split_sequence(mc_values, n_steps_in, n_steps_out)"
   ]
  },
  {
   "cell_type": "code",
   "execution_count": 8,
   "id": "c58d756c",
   "metadata": {},
   "outputs": [],
   "source": [
    "n_features = 1"
   ]
  },
  {
   "cell_type": "code",
   "execution_count": 9,
   "id": "b3f30cf9",
   "metadata": {},
   "outputs": [],
   "source": [
    "X = X.reshape(X.shape[0],X.shape[1], n_features)"
   ]
  },
  {
   "cell_type": "code",
   "execution_count": 10,
   "id": "dcb9c2d9",
   "metadata": {},
   "outputs": [],
   "source": [
    "model = Sequential()\n",
    "model.add(LSTM(100, activation='relu', return_sequences=True, input_shape=(n_steps_in, n_features)))\n",
    "model.add(LSTM(100, activation='relu'))\n",
    "model.add(Dense(n_steps_out))\n",
    "model.compile(optimizer='adam', loss='mse')"
   ]
  },
  {
   "cell_type": "code",
   "execution_count": 11,
   "id": "f206e73d",
   "metadata": {
    "scrolled": true
   },
   "outputs": [
    {
     "name": "stdout",
     "output_type": "stream",
     "text": [
      "Epoch 1/50\n",
      "5/5 - 2s - loss: 5612328976384.0000 - 2s/epoch - 495ms/step\n",
      "Epoch 2/50\n",
      "5/5 - 0s - loss: 5245759913984.0000 - 43ms/epoch - 9ms/step\n",
      "Epoch 3/50\n",
      "5/5 - 0s - loss: 5090226208768.0000 - 36ms/epoch - 7ms/step\n",
      "Epoch 4/50\n",
      "5/5 - 0s - loss: 4862491754496.0000 - 36ms/epoch - 7ms/step\n",
      "Epoch 5/50\n",
      "5/5 - 0s - loss: 4569841008640.0000 - 35ms/epoch - 7ms/step\n",
      "Epoch 6/50\n",
      "5/5 - 0s - loss: 4116649869312.0000 - 39ms/epoch - 8ms/step\n",
      "Epoch 7/50\n",
      "5/5 - 0s - loss: 3300340269056.0000 - 34ms/epoch - 7ms/step\n",
      "Epoch 8/50\n",
      "5/5 - 0s - loss: 2483645841408.0000 - 35ms/epoch - 7ms/step\n",
      "Epoch 9/50\n",
      "5/5 - 0s - loss: 1548981501952.0000 - 36ms/epoch - 7ms/step\n",
      "Epoch 10/50\n",
      "5/5 - 0s - loss: 585047867392.0000 - 36ms/epoch - 7ms/step\n",
      "Epoch 11/50\n",
      "5/5 - 0s - loss: 238608826368.0000 - 35ms/epoch - 7ms/step\n",
      "Epoch 12/50\n",
      "5/5 - 0s - loss: 393820340224.0000 - 46ms/epoch - 9ms/step\n",
      "Epoch 13/50\n",
      "5/5 - 0s - loss: 266354425856.0000 - 30ms/epoch - 6ms/step\n",
      "Epoch 14/50\n",
      "5/5 - 0s - loss: 203993858048.0000 - 30ms/epoch - 6ms/step\n",
      "Epoch 15/50\n",
      "5/5 - 0s - loss: 211880853504.0000 - 33ms/epoch - 7ms/step\n",
      "Epoch 16/50\n",
      "5/5 - 0s - loss: 238860107776.0000 - 31ms/epoch - 6ms/step\n",
      "Epoch 17/50\n",
      "5/5 - 0s - loss: 234284105728.0000 - 32ms/epoch - 6ms/step\n",
      "Epoch 18/50\n",
      "5/5 - 0s - loss: 199592067072.0000 - 32ms/epoch - 6ms/step\n",
      "Epoch 19/50\n",
      "5/5 - 0s - loss: 184583733248.0000 - 34ms/epoch - 7ms/step\n",
      "Epoch 20/50\n",
      "5/5 - 0s - loss: 196951064576.0000 - 34ms/epoch - 7ms/step\n",
      "Epoch 21/50\n",
      "5/5 - 0s - loss: 223088492544.0000 - 34ms/epoch - 7ms/step\n",
      "Epoch 22/50\n",
      "5/5 - 0s - loss: 233592537088.0000 - 34ms/epoch - 7ms/step\n",
      "Epoch 23/50\n",
      "5/5 - 0s - loss: 198131580928.0000 - 37ms/epoch - 7ms/step\n",
      "Epoch 24/50\n",
      "5/5 - 0s - loss: 211388088320.0000 - 36ms/epoch - 7ms/step\n",
      "Epoch 25/50\n",
      "5/5 - 0s - loss: 348924542976.0000 - 31ms/epoch - 6ms/step\n",
      "Epoch 26/50\n",
      "5/5 - 0s - loss: 244068483072.0000 - 32ms/epoch - 6ms/step\n",
      "Epoch 27/50\n",
      "5/5 - 0s - loss: 220112781312.0000 - 31ms/epoch - 6ms/step\n",
      "Epoch 28/50\n",
      "5/5 - 0s - loss: 180301479936.0000 - 30ms/epoch - 6ms/step\n",
      "Epoch 29/50\n",
      "5/5 - 0s - loss: 185691045888.0000 - 31ms/epoch - 6ms/step\n",
      "Epoch 30/50\n",
      "5/5 - 0s - loss: 178881331200.0000 - 30ms/epoch - 6ms/step\n",
      "Epoch 31/50\n",
      "5/5 - 0s - loss: 176375513088.0000 - 31ms/epoch - 6ms/step\n",
      "Epoch 32/50\n",
      "5/5 - 0s - loss: 170856824832.0000 - 31ms/epoch - 6ms/step\n",
      "Epoch 33/50\n",
      "5/5 - 0s - loss: 273536188416.0000 - 31ms/epoch - 6ms/step\n",
      "Epoch 34/50\n",
      "5/5 - 0s - loss: 262642745344.0000 - 30ms/epoch - 6ms/step\n",
      "Epoch 35/50\n",
      "5/5 - 0s - loss: 177221402624.0000 - 31ms/epoch - 6ms/step\n",
      "Epoch 36/50\n",
      "5/5 - 0s - loss: 177283317760.0000 - 31ms/epoch - 6ms/step\n",
      "Epoch 37/50\n",
      "5/5 - 0s - loss: 174452637696.0000 - 32ms/epoch - 6ms/step\n",
      "Epoch 38/50\n",
      "5/5 - 0s - loss: 168453439488.0000 - 33ms/epoch - 7ms/step\n",
      "Epoch 39/50\n",
      "5/5 - 0s - loss: 180791394304.0000 - 30ms/epoch - 6ms/step\n",
      "Epoch 40/50\n",
      "5/5 - 0s - loss: 185645056000.0000 - 32ms/epoch - 6ms/step\n",
      "Epoch 41/50\n",
      "5/5 - 0s - loss: 174698840064.0000 - 30ms/epoch - 6ms/step\n",
      "Epoch 42/50\n",
      "5/5 - 0s - loss: 179175636992.0000 - 31ms/epoch - 6ms/step\n",
      "Epoch 43/50\n",
      "5/5 - 0s - loss: 168517042176.0000 - 31ms/epoch - 6ms/step\n",
      "Epoch 44/50\n",
      "5/5 - 0s - loss: 169149562880.0000 - 31ms/epoch - 6ms/step\n",
      "Epoch 45/50\n",
      "5/5 - 0s - loss: 172411420672.0000 - 30ms/epoch - 6ms/step\n",
      "Epoch 46/50\n",
      "5/5 - 0s - loss: 168513830912.0000 - 31ms/epoch - 6ms/step\n",
      "Epoch 47/50\n",
      "5/5 - 0s - loss: 169132408832.0000 - 31ms/epoch - 6ms/step\n",
      "Epoch 48/50\n",
      "5/5 - 0s - loss: 171341660160.0000 - 33ms/epoch - 7ms/step\n",
      "Epoch 49/50\n",
      "5/5 - 0s - loss: 192765132800.0000 - 31ms/epoch - 6ms/step\n",
      "Epoch 50/50\n",
      "5/5 - 0s - loss: 190538072064.0000 - 31ms/epoch - 6ms/step\n"
     ]
    },
    {
     "data": {
      "text/plain": [
       "<keras.callbacks.History at 0x22ca12efee0>"
      ]
     },
     "execution_count": 11,
     "metadata": {},
     "output_type": "execute_result"
    }
   ],
   "source": [
    "model.fit(X, y, epochs=50, verbose=2)"
   ]
  },
  {
   "cell_type": "code",
   "execution_count": 12,
   "id": "b615eaf2",
   "metadata": {},
   "outputs": [],
   "source": [
    "x_input = array([328245, 801300, 820870, 694430])\n",
    "x_input = x_input.reshape((1, n_steps_in, n_features))\n",
    "yhat = model.predict(x_input, verbose=0)"
   ]
  },
  {
   "cell_type": "code",
   "execution_count": 13,
   "id": "c05ba75f",
   "metadata": {},
   "outputs": [
    {
     "name": "stdout",
     "output_type": "stream",
     "text": [
      "537107\n",
      "501758\n",
      " 0.46 \n"
     ]
    }
   ],
   "source": [
    "for i in range(len(yhat[0])):\n",
    "    print(int(yhat[0][i]))\n",
    "MAPE = ((abs(694430 - yhat[0][0])/694430) + (abs(655505 - yhat[0][1])/655505))\n",
    "print(\" %.2f \" %(MAPE))"
   ]
  },
  {
   "cell_type": "code",
   "execution_count": 14,
   "id": "afe859f2",
   "metadata": {},
   "outputs": [],
   "source": [
    "model = Sequential()\n",
    "model.add(Bidirectional(LSTM(100, activation='relu'), input_shape=(n_steps_in, n_features)))\n",
    "model.add(Dense(n_steps_out))\n",
    "model.compile(optimizer='adam', loss='mse')"
   ]
  },
  {
   "cell_type": "code",
   "execution_count": 15,
   "id": "52a46576",
   "metadata": {
    "scrolled": true
   },
   "outputs": [
    {
     "name": "stdout",
     "output_type": "stream",
     "text": [
      "Epoch 1/50\n",
      "5/5 - 2s - loss: 5204535148544.0000 - 2s/epoch - 493ms/step\n",
      "Epoch 2/50\n",
      "5/5 - 0s - loss: 4808072757248.0000 - 24ms/epoch - 5ms/step\n",
      "Epoch 3/50\n",
      "5/5 - 0s - loss: 4407045390336.0000 - 23ms/epoch - 5ms/step\n",
      "Epoch 4/50\n",
      "5/5 - 0s - loss: 3979411456000.0000 - 21ms/epoch - 4ms/step\n",
      "Epoch 5/50\n",
      "5/5 - 0s - loss: 3477802319872.0000 - 22ms/epoch - 4ms/step\n",
      "Epoch 6/50\n",
      "5/5 - 0s - loss: 2948889051136.0000 - 23ms/epoch - 5ms/step\n",
      "Epoch 7/50\n",
      "5/5 - 0s - loss: 2473846636544.0000 - 22ms/epoch - 4ms/step\n",
      "Epoch 8/50\n",
      "5/5 - 0s - loss: 1949384966144.0000 - 22ms/epoch - 4ms/step\n",
      "Epoch 9/50\n",
      "5/5 - 0s - loss: 1412255055872.0000 - 22ms/epoch - 4ms/step\n",
      "Epoch 10/50\n",
      "5/5 - 0s - loss: 956900900864.0000 - 21ms/epoch - 4ms/step\n",
      "Epoch 11/50\n",
      "5/5 - 0s - loss: 543404720128.0000 - 22ms/epoch - 4ms/step\n",
      "Epoch 12/50\n",
      "5/5 - 0s - loss: 293879218176.0000 - 22ms/epoch - 4ms/step\n",
      "Epoch 13/50\n",
      "5/5 - 0s - loss: 195155689472.0000 - 22ms/epoch - 4ms/step\n",
      "Epoch 14/50\n",
      "5/5 - 0s - loss: 194895659008.0000 - 22ms/epoch - 4ms/step\n",
      "Epoch 15/50\n",
      "5/5 - 0s - loss: 227549478912.0000 - 23ms/epoch - 5ms/step\n",
      "Epoch 16/50\n",
      "5/5 - 0s - loss: 191779209216.0000 - 22ms/epoch - 4ms/step\n",
      "Epoch 17/50\n",
      "5/5 - 0s - loss: 170592534528.0000 - 22ms/epoch - 4ms/step\n",
      "Epoch 18/50\n",
      "5/5 - 0s - loss: 161914191872.0000 - 23ms/epoch - 5ms/step\n",
      "Epoch 19/50\n",
      "5/5 - 0s - loss: 159138463744.0000 - 23ms/epoch - 5ms/step\n",
      "Epoch 20/50\n",
      "5/5 - 0s - loss: 165620203520.0000 - 23ms/epoch - 5ms/step\n",
      "Epoch 21/50\n",
      "5/5 - 0s - loss: 163557752832.0000 - 23ms/epoch - 5ms/step\n",
      "Epoch 22/50\n",
      "5/5 - 0s - loss: 163961552896.0000 - 22ms/epoch - 4ms/step\n",
      "Epoch 23/50\n",
      "5/5 - 0s - loss: 161448837120.0000 - 24ms/epoch - 5ms/step\n",
      "Epoch 24/50\n",
      "5/5 - 0s - loss: 168103641088.0000 - 22ms/epoch - 4ms/step\n",
      "Epoch 25/50\n",
      "5/5 - 0s - loss: 170093264896.0000 - 22ms/epoch - 4ms/step\n",
      "Epoch 26/50\n",
      "5/5 - 0s - loss: 162362441728.0000 - 34ms/epoch - 7ms/step\n",
      "Epoch 27/50\n",
      "5/5 - 0s - loss: 159132483584.0000 - 24ms/epoch - 5ms/step\n",
      "Epoch 28/50\n",
      "5/5 - 0s - loss: 151322525696.0000 - 23ms/epoch - 5ms/step\n",
      "Epoch 29/50\n",
      "5/5 - 0s - loss: 152320000000.0000 - 27ms/epoch - 5ms/step\n",
      "Epoch 30/50\n",
      "5/5 - 0s - loss: 164664967168.0000 - 55ms/epoch - 11ms/step\n",
      "Epoch 31/50\n",
      "5/5 - 0s - loss: 192255148032.0000 - 31ms/epoch - 6ms/step\n",
      "Epoch 32/50\n",
      "5/5 - 0s - loss: 177663557632.0000 - 28ms/epoch - 6ms/step\n",
      "Epoch 33/50\n",
      "5/5 - 0s - loss: 157761634304.0000 - 25ms/epoch - 5ms/step\n",
      "Epoch 34/50\n",
      "5/5 - 0s - loss: 154720960512.0000 - 24ms/epoch - 5ms/step\n",
      "Epoch 35/50\n",
      "5/5 - 0s - loss: 167952252928.0000 - 23ms/epoch - 5ms/step\n",
      "Epoch 36/50\n",
      "5/5 - 0s - loss: 165748719616.0000 - 23ms/epoch - 5ms/step\n",
      "Epoch 37/50\n",
      "5/5 - 0s - loss: 157329702912.0000 - 23ms/epoch - 5ms/step\n",
      "Epoch 38/50\n",
      "5/5 - 0s - loss: 153282871296.0000 - 25ms/epoch - 5ms/step\n",
      "Epoch 39/50\n",
      "5/5 - 0s - loss: 151113695232.0000 - 22ms/epoch - 4ms/step\n",
      "Epoch 40/50\n",
      "5/5 - 0s - loss: 157585555456.0000 - 24ms/epoch - 5ms/step\n",
      "Epoch 41/50\n",
      "5/5 - 0s - loss: 155849408512.0000 - 24ms/epoch - 5ms/step\n",
      "Epoch 42/50\n",
      "5/5 - 0s - loss: 154067337216.0000 - 24ms/epoch - 5ms/step\n",
      "Epoch 43/50\n",
      "5/5 - 0s - loss: 152590467072.0000 - 26ms/epoch - 5ms/step\n",
      "Epoch 44/50\n",
      "5/5 - 0s - loss: 152257445888.0000 - 27ms/epoch - 5ms/step\n",
      "Epoch 45/50\n",
      "5/5 - 0s - loss: 151956422656.0000 - 27ms/epoch - 5ms/step\n",
      "Epoch 46/50\n",
      "5/5 - 0s - loss: 150449684480.0000 - 27ms/epoch - 5ms/step\n",
      "Epoch 47/50\n",
      "5/5 - 0s - loss: 150005809152.0000 - 28ms/epoch - 6ms/step\n",
      "Epoch 48/50\n",
      "5/5 - 0s - loss: 149521661952.0000 - 31ms/epoch - 6ms/step\n",
      "Epoch 49/50\n",
      "5/5 - 0s - loss: 150049308672.0000 - 31ms/epoch - 6ms/step\n",
      "Epoch 50/50\n",
      "5/5 - 0s - loss: 149962801152.0000 - 28ms/epoch - 6ms/step\n"
     ]
    },
    {
     "data": {
      "text/plain": [
       "<keras.callbacks.History at 0x22ca5aafee0>"
      ]
     },
     "execution_count": 15,
     "metadata": {},
     "output_type": "execute_result"
    }
   ],
   "source": [
    "model.fit(X, y, epochs=50, verbose=2)"
   ]
  },
  {
   "cell_type": "code",
   "execution_count": 16,
   "id": "d2f384ce",
   "metadata": {},
   "outputs": [],
   "source": [
    "x_input = array([328245, 801300, 820870, 694430])\n",
    "x_input = x_input.reshape((1, n_steps_in, n_features))\n",
    "yhat = model.predict(x_input, verbose=0)"
   ]
  },
  {
   "cell_type": "code",
   "execution_count": 17,
   "id": "ae36000c",
   "metadata": {},
   "outputs": [
    {
     "name": "stdout",
     "output_type": "stream",
     "text": [
      "720695\n",
      "708934\n",
      " 0.12 \n"
     ]
    }
   ],
   "source": [
    "for i in range(len(yhat[0])):\n",
    "    print(int(yhat[0][i]))\n",
    "MAPE = ((abs(694430 - yhat[0][0])/694430) + (abs(655505 - yhat[0][1])/655505))\n",
    "print(\" %.2f \" %(MAPE))"
   ]
  },
  {
   "cell_type": "code",
   "execution_count": 29,
   "id": "9b59fcf5",
   "metadata": {},
   "outputs": [],
   "source": [
    "model = Sequential()\n",
    "model.add(LSTM(50, activation='relu', input_shape=(n_steps_in, n_features)))\n",
    "model.add(Dense(n_steps_out))\n",
    "model.compile(optimizer='adam', loss='mse')"
   ]
  },
  {
   "cell_type": "code",
   "execution_count": 30,
   "id": "99110d86",
   "metadata": {},
   "outputs": [
    {
     "data": {
      "text/plain": [
       "<keras.callbacks.History at 0x22cae7de9d0>"
      ]
     },
     "execution_count": 30,
     "metadata": {},
     "output_type": "execute_result"
    }
   ],
   "source": [
    "model.fit(X, y, epochs=50, verbose=0)"
   ]
  },
  {
   "cell_type": "code",
   "execution_count": 31,
   "id": "f642c23a",
   "metadata": {},
   "outputs": [
    {
     "name": "stdout",
     "output_type": "stream",
     "text": [
      "WARNING:tensorflow:5 out of the last 5 calls to <function Model.make_predict_function.<locals>.predict_function at 0x0000022CAE7FA040> triggered tf.function retracing. Tracing is expensive and the excessive number of tracings could be due to (1) creating @tf.function repeatedly in a loop, (2) passing tensors with different shapes, (3) passing Python objects instead of tensors. For (1), please define your @tf.function outside of the loop. For (2), @tf.function has experimental_relax_shapes=True option that relaxes argument shapes that can avoid unnecessary retracing. For (3), please refer to https://www.tensorflow.org/guide/function#controlling_retracing and https://www.tensorflow.org/api_docs/python/tf/function for  more details.\n"
     ]
    }
   ],
   "source": [
    "x_input = array([328245, 801300, 820870, 694430])\n",
    "x_input = x_input.reshape((1, n_steps_in, n_features))\n",
    "yhat = model.predict(x_input, verbose=0)"
   ]
  },
  {
   "cell_type": "code",
   "execution_count": 33,
   "id": "90ce8d91",
   "metadata": {},
   "outputs": [
    {
     "name": "stdout",
     "output_type": "stream",
     "text": [
      "628943\n",
      "589350\n",
      " 0.20 \n"
     ]
    }
   ],
   "source": [
    "for i in range(len(yhat[0])):\n",
    "    print(int(yhat[0][i]))\n",
    "MAPE = ((abs(694430 - yhat[0][0])/694430) + (abs(655505 - yhat[0][1])/655505))\n",
    "print(\" %.2f \" %(MAPE))"
   ]
  },
  {
   "cell_type": "code",
   "execution_count": 18,
   "id": "f107bd3d",
   "metadata": {},
   "outputs": [],
   "source": [
    "from numpy import array\n",
    "from keras.models import Sequential\n",
    "from keras.layers import LSTM\n",
    "from keras.layers import Dense\n",
    "from keras.layers import RepeatVector\n",
    "from keras.layers import TimeDistributed"
   ]
  },
  {
   "cell_type": "code",
   "execution_count": 19,
   "id": "ccd1d3c7",
   "metadata": {},
   "outputs": [],
   "source": [
    "y = y.reshape((y.shape[0], y.shape[1], n_features))"
   ]
  },
  {
   "cell_type": "code",
   "execution_count": 20,
   "id": "c8e5b6b8",
   "metadata": {},
   "outputs": [],
   "source": [
    "model = Sequential()\n",
    "model.add(LSTM(100, activation='relu', input_shape=(n_steps_in, n_features)))\n",
    "model.add(RepeatVector(n_steps_out))\n",
    "model.add(LSTM(100, activation='relu', return_sequences=True))\n",
    "model.add(TimeDistributed(Dense(1)))\n",
    "model.compile(optimizer='adam', loss='mse')"
   ]
  },
  {
   "cell_type": "code",
   "execution_count": 21,
   "id": "a1879fc2",
   "metadata": {
    "scrolled": true
   },
   "outputs": [
    {
     "name": "stdout",
     "output_type": "stream",
     "text": [
      "Epoch 1/50\n",
      "5/5 - 2s - loss: 5755553972224.0000 - 2s/epoch - 494ms/step\n",
      "Epoch 2/50\n",
      "5/5 - 0s - loss: 5470566219776.0000 - 31ms/epoch - 6ms/step\n",
      "Epoch 3/50\n",
      "5/5 - 0s - loss: 5118296588288.0000 - 35ms/epoch - 7ms/step\n",
      "Epoch 4/50\n",
      "5/5 - 0s - loss: 4762870218752.0000 - 36ms/epoch - 7ms/step\n",
      "Epoch 5/50\n",
      "5/5 - 0s - loss: 4235411062784.0000 - 35ms/epoch - 7ms/step\n",
      "Epoch 6/50\n",
      "5/5 - 0s - loss: 3441681760256.0000 - 32ms/epoch - 6ms/step\n",
      "Epoch 7/50\n",
      "5/5 - 0s - loss: 2839641849856.0000 - 32ms/epoch - 6ms/step\n",
      "Epoch 8/50\n",
      "5/5 - 0s - loss: 2021674582016.0000 - 32ms/epoch - 6ms/step\n",
      "Epoch 9/50\n",
      "5/5 - 0s - loss: 1341266722816.0000 - 34ms/epoch - 7ms/step\n",
      "Epoch 10/50\n",
      "5/5 - 0s - loss: 985738575872.0000 - 35ms/epoch - 7ms/step\n",
      "Epoch 11/50\n",
      "5/5 - 0s - loss: 857732677632.0000 - 35ms/epoch - 7ms/step\n",
      "Epoch 12/50\n",
      "5/5 - 0s - loss: 740645339136.0000 - 29ms/epoch - 6ms/step\n",
      "Epoch 13/50\n",
      "5/5 - 0s - loss: 666792296448.0000 - 30ms/epoch - 6ms/step\n",
      "Epoch 14/50\n",
      "5/5 - 0s - loss: 557970489344.0000 - 32ms/epoch - 6ms/step\n",
      "Epoch 15/50\n",
      "5/5 - 0s - loss: 519629144064.0000 - 30ms/epoch - 6ms/step\n",
      "Epoch 16/50\n",
      "5/5 - 0s - loss: 430569488384.0000 - 28ms/epoch - 6ms/step\n",
      "Epoch 17/50\n",
      "5/5 - 0s - loss: 336558587904.0000 - 29ms/epoch - 6ms/step\n",
      "Epoch 18/50\n",
      "5/5 - 0s - loss: 288367706112.0000 - 29ms/epoch - 6ms/step\n",
      "Epoch 19/50\n",
      "5/5 - 0s - loss: 225617149952.0000 - 29ms/epoch - 6ms/step\n",
      "Epoch 20/50\n",
      "5/5 - 0s - loss: 198337544192.0000 - 30ms/epoch - 6ms/step\n",
      "Epoch 21/50\n",
      "5/5 - 0s - loss: 208931454976.0000 - 29ms/epoch - 6ms/step\n",
      "Epoch 22/50\n",
      "5/5 - 0s - loss: 201352347648.0000 - 30ms/epoch - 6ms/step\n",
      "Epoch 23/50\n",
      "5/5 - 0s - loss: 214058696704.0000 - 30ms/epoch - 6ms/step\n",
      "Epoch 24/50\n",
      "5/5 - 0s - loss: 184294457344.0000 - 31ms/epoch - 6ms/step\n",
      "Epoch 25/50\n",
      "5/5 - 0s - loss: 191752306688.0000 - 30ms/epoch - 6ms/step\n",
      "Epoch 26/50\n",
      "5/5 - 0s - loss: 189615161344.0000 - 31ms/epoch - 6ms/step\n",
      "Epoch 27/50\n",
      "5/5 - 0s - loss: 193711734784.0000 - 29ms/epoch - 6ms/step\n",
      "Epoch 28/50\n",
      "5/5 - 0s - loss: 179509313536.0000 - 30ms/epoch - 6ms/step\n",
      "Epoch 29/50\n",
      "5/5 - 0s - loss: 174994980864.0000 - 35ms/epoch - 7ms/step\n",
      "Epoch 30/50\n",
      "5/5 - 0s - loss: 181207334912.0000 - 36ms/epoch - 7ms/step\n",
      "Epoch 31/50\n",
      "5/5 - 0s - loss: 190883774464.0000 - 34ms/epoch - 7ms/step\n",
      "Epoch 32/50\n",
      "5/5 - 0s - loss: 199251607552.0000 - 34ms/epoch - 7ms/step\n",
      "Epoch 33/50\n",
      "5/5 - 0s - loss: 180467073024.0000 - 33ms/epoch - 7ms/step\n",
      "Epoch 34/50\n",
      "5/5 - 0s - loss: 185815334912.0000 - 31ms/epoch - 6ms/step\n",
      "Epoch 35/50\n",
      "5/5 - 0s - loss: 178265931776.0000 - 30ms/epoch - 6ms/step\n",
      "Epoch 36/50\n",
      "5/5 - 0s - loss: 179645530112.0000 - 27ms/epoch - 5ms/step\n",
      "Epoch 37/50\n",
      "5/5 - 0s - loss: 189069803520.0000 - 31ms/epoch - 6ms/step\n",
      "Epoch 38/50\n",
      "5/5 - 0s - loss: 163599040512.0000 - 32ms/epoch - 6ms/step\n",
      "Epoch 39/50\n",
      "5/5 - 0s - loss: 192667058176.0000 - 31ms/epoch - 6ms/step\n",
      "Epoch 40/50\n",
      "5/5 - 0s - loss: 177450582016.0000 - 30ms/epoch - 6ms/step\n",
      "Epoch 41/50\n",
      "5/5 - 0s - loss: 163187654656.0000 - 31ms/epoch - 6ms/step\n",
      "Epoch 42/50\n",
      "5/5 - 0s - loss: 168855830528.0000 - 34ms/epoch - 7ms/step\n",
      "Epoch 43/50\n",
      "5/5 - 0s - loss: 162629419008.0000 - 32ms/epoch - 6ms/step\n",
      "Epoch 44/50\n",
      "5/5 - 0s - loss: 147392069632.0000 - 30ms/epoch - 6ms/step\n",
      "Epoch 45/50\n",
      "5/5 - 0s - loss: 162360229888.0000 - 26ms/epoch - 5ms/step\n",
      "Epoch 46/50\n",
      "5/5 - 0s - loss: 162683764736.0000 - 28ms/epoch - 6ms/step\n",
      "Epoch 47/50\n",
      "5/5 - 0s - loss: 149158772736.0000 - 32ms/epoch - 6ms/step\n",
      "Epoch 48/50\n",
      "5/5 - 0s - loss: 153445154816.0000 - 31ms/epoch - 6ms/step\n",
      "Epoch 49/50\n",
      "5/5 - 0s - loss: 143334309888.0000 - 30ms/epoch - 6ms/step\n",
      "Epoch 50/50\n",
      "5/5 - 0s - loss: 198174326784.0000 - 31ms/epoch - 6ms/step\n"
     ]
    },
    {
     "data": {
      "text/plain": [
       "<keras.callbacks.History at 0x22ca9f5cc10>"
      ]
     },
     "execution_count": 21,
     "metadata": {},
     "output_type": "execute_result"
    }
   ],
   "source": [
    "model.fit(X, y, epochs=50, verbose=2)"
   ]
  },
  {
   "cell_type": "code",
   "execution_count": 22,
   "id": "b577f4eb",
   "metadata": {},
   "outputs": [],
   "source": [
    "x_input = array([328245, 801300, 820870, 694430])\n",
    "x_input = x_input.reshape((1, n_steps_in, n_features))\n",
    "yhat = model.predict(x_input, verbose=0)"
   ]
  },
  {
   "cell_type": "code",
   "execution_count": 23,
   "id": "cad16efe",
   "metadata": {},
   "outputs": [
    {
     "name": "stdout",
     "output_type": "stream",
     "text": [
      "610480\n",
      "645019\n",
      " 0.14 \n"
     ]
    }
   ],
   "source": [
    "for i in range(len(yhat[0])):\n",
    "    print(int(yhat[0][i]))\n",
    "MAPE = ((abs(694430 - yhat[0][0])/694430) + (abs(655505 - yhat[0][1])/655505))\n",
    "print(\" %.2f \" %(MAPE))"
   ]
  },
  {
   "cell_type": "code",
   "execution_count": null,
   "id": "e3d2be34",
   "metadata": {},
   "outputs": [],
   "source": []
  }
 ],
 "metadata": {
  "kernelspec": {
   "display_name": "Python 3 (ipykernel)",
   "language": "python",
   "name": "python3"
  },
  "language_info": {
   "codemirror_mode": {
    "name": "ipython",
    "version": 3
   },
   "file_extension": ".py",
   "mimetype": "text/x-python",
   "name": "python",
   "nbconvert_exporter": "python",
   "pygments_lexer": "ipython3",
   "version": "3.9.7"
  }
 },
 "nbformat": 4,
 "nbformat_minor": 5
}
